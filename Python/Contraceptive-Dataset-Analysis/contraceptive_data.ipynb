{
 "cells": [
  {
   "cell_type": "code",
   "execution_count": 1,
   "metadata": {},
   "outputs": [],
   "source": [
    "import pandas as pd\n",
    "import numpy as np\n",
    "import matplotlib.pyplot as plt\n",
    "import seaborn as sns"
   ]
  },
  {
   "cell_type": "code",
   "execution_count": 3,
   "metadata": {},
   "outputs": [],
   "source": [
    "cmc = pd.read_csv(\"/Users/Vidya/Documents/Practical_Data_Science/Assignment_2/cmc.txt\", sep = ',', names = [\"Age_wife\", \"Education_wife\", \"Education_husband\", \"Children\", \"Religion_wife\", \"Working_wife\", \"Occupation_husband\", \"Standard_of_living_index\",\"Media_exposure\", \"Contraceptive_method_used\"])"
   ]
  },
  {
   "cell_type": "code",
   "execution_count": 4,
   "metadata": {},
   "outputs": [],
   "source": [
    "pd.set_option('display.max_columns', None)\n",
    "pd.set_option('display.max_rows', None)\n",
    "pd.options.display.float_format = '{:.2f}'.format"
   ]
  },
  {
   "cell_type": "code",
   "execution_count": 3,
   "metadata": {},
   "outputs": [
    {
     "ename": "NameError",
     "evalue": "name 'cmc' is not defined",
     "output_type": "error",
     "traceback": [
      "\u001b[0;31m---------------------------------------------------------------------------\u001b[0m",
      "\u001b[0;31mNameError\u001b[0m                                 Traceback (most recent call last)",
      "\u001b[0;32m<ipython-input-3-b53ab0cd598b>\u001b[0m in \u001b[0;36m<module>\u001b[0;34m()\u001b[0m\n\u001b[0;32m----> 1\u001b[0;31m \u001b[0mcmc\u001b[0m\u001b[0;34m.\u001b[0m\u001b[0misnull\u001b[0m\u001b[0;34m(\u001b[0m\u001b[0;34m)\u001b[0m\u001b[0;34m.\u001b[0m\u001b[0msum\u001b[0m\u001b[0;34m(\u001b[0m\u001b[0;34m)\u001b[0m\u001b[0;34m\u001b[0m\u001b[0m\n\u001b[0m",
      "\u001b[0;31mNameError\u001b[0m: name 'cmc' is not defined"
     ]
    }
   ],
   "source": [
    "cmc.isnull().sum()"
   ]
  },
  {
   "cell_type": "code",
   "execution_count": null,
   "metadata": {},
   "outputs": [],
   "source": [
    "cmc.isnull()"
   ]
  },
  {
   "cell_type": "code",
   "execution_count": 6,
   "metadata": {},
   "outputs": [
    {
     "data": {
      "text/plain": [
       "Age_wife                     int64\n",
       "Education_wife               int64\n",
       "Education_husband            int64\n",
       "Children                     int64\n",
       "Religion_wife                int64\n",
       "Working_wife                 int64\n",
       "Occupation_husband           int64\n",
       "Standard_of_living_index     int64\n",
       "Media_exposure               int64\n",
       "Contraceptive_method_used    int64\n",
       "dtype: object"
      ]
     },
     "execution_count": 6,
     "metadata": {},
     "output_type": "execute_result"
    }
   ],
   "source": [
    "cmc.dtypes"
   ]
  },
  {
   "cell_type": "code",
   "execution_count": 7,
   "metadata": {},
   "outputs": [],
   "source": [
    "cmc_explore = cmc"
   ]
  },
  {
   "cell_type": "markdown",
   "metadata": {},
   "source": [
    "### Data Preparation before exploration\n",
    "\n",
    "#### Converting the numerical values to labels"
   ]
  },
  {
   "cell_type": "code",
   "execution_count": 8,
   "metadata": {},
   "outputs": [],
   "source": [
    "cmc_explore['Education_wife'].replace(1, 'Low',inplace=True)\n",
    "cmc_explore['Education_wife'].replace(2, 'Mid-Low',inplace=True)\n",
    "cmc_explore['Education_wife'].replace(3, 'Mid-High',inplace=True)\n",
    "cmc_explore['Education_wife'].replace(4, 'High',inplace=True)\n",
    "\n",
    "cmc_explore['Education_husband'].replace(1, 'Low',inplace=True)\n",
    "cmc_explore['Education_husband'].replace(2, 'Mid-Low',inplace=True)\n",
    "cmc_explore['Education_husband'].replace(3, 'Mid-High',inplace=True)\n",
    "cmc_explore['Education_husband'].replace(4, 'High',inplace=True)\n",
    "\n",
    "cmc_explore['Religion_wife'].replace(1,'Islam', inplace=True)\n",
    "cmc_explore['Religion_wife'].replace(0,'Non_Islam', inplace=True)\n",
    "\n",
    "cmc_explore['Working_wife'].replace(1,'No', inplace=True)\n",
    "cmc_explore['Working_wife'].replace(0,'Yes', inplace=True)\n",
    "\n",
    "\n",
    "cmc_explore['Standard_of_living_index'].replace(1,'Low', inplace=True)\n",
    "cmc_explore['Standard_of_living_index'].replace(2,'Mid-Low', inplace=True)\n",
    "cmc_explore['Standard_of_living_index'].replace(3,'Mid-High', inplace=True)\n",
    "cmc_explore['Standard_of_living_index'].replace(4,'High', inplace=True)\n",
    "\n",
    "cmc_explore['Media_exposure'].replace(1,'Limited Media Exposure', inplace=True)\n",
    "cmc_explore['Media_exposure'].replace(0,'Good Media Exposure', inplace=True)\n",
    "\n",
    "cmc_explore['Contraceptive_method_used'].replace(1,'Not Using', inplace=True)\n",
    "cmc_explore['Contraceptive_method_used'].replace(2,'Long Term Measures', inplace=True)\n",
    "cmc_explore['Contraceptive_method_used'].replace(3,'Short Term Measures', inplace=True)"
   ]
  },
  {
   "cell_type": "code",
   "execution_count": 9,
   "metadata": {},
   "outputs": [
    {
     "data": {
      "text/plain": [
       "Age_wife                      int64\n",
       "Education_wife               object\n",
       "Education_husband            object\n",
       "Children                      int64\n",
       "Religion_wife                object\n",
       "Working_wife                 object\n",
       "Occupation_husband            int64\n",
       "Standard_of_living_index     object\n",
       "Media_exposure               object\n",
       "Contraceptive_method_used    object\n",
       "dtype: object"
      ]
     },
     "execution_count": 9,
     "metadata": {},
     "output_type": "execute_result"
    }
   ],
   "source": [
    "cmc_explore.dtypes"
   ]
  },
  {
   "cell_type": "code",
   "execution_count": 10,
   "metadata": {},
   "outputs": [
    {
     "data": {
      "text/plain": [
       "Age_wife                        int64\n",
       "Education_wife               category\n",
       "Education_husband            category\n",
       "Children                        int64\n",
       "Religion_wife                category\n",
       "Working_wife                 category\n",
       "Occupation_husband              int64\n",
       "Standard_of_living_index     category\n",
       "Media_exposure               category\n",
       "Contraceptive_method_used    category\n",
       "dtype: object"
      ]
     },
     "execution_count": 10,
     "metadata": {},
     "output_type": "execute_result"
    }
   ],
   "source": [
    "cmc_explore['Education_wife'] = cmc_explore['Education_wife'].astype('category')\n",
    "cmc_explore['Education_husband'] = cmc_explore['Education_husband'].astype('category')\n",
    "cmc_explore['Religion_wife'] = cmc_explore['Religion_wife'].astype('category')\n",
    "cmc_explore['Working_wife'] = cmc_explore['Working_wife'].astype('category')\n",
    "cmc_explore['Standard_of_living_index'] = cmc_explore['Standard_of_living_index'].astype('category')\n",
    "cmc_explore['Media_exposure'] = cmc_explore['Media_exposure'].astype('category')\n",
    "cmc_explore['Contraceptive_method_used'] = cmc_explore['Contraceptive_method_used'].astype('category')\n",
    "cmc_explore.dtypes"
   ]
  },
  {
   "cell_type": "code",
   "execution_count": 11,
   "metadata": {},
   "outputs": [
    {
     "name": "stdout",
     "output_type": "stream",
     "text": [
      "       Age_wife  Children  Occupation_husband\n",
      "count   1473.00   1473.00             1473.00\n",
      "mean      32.54      3.26                2.14\n",
      "std        8.23      2.36                0.86\n",
      "min       16.00      0.00                1.00\n",
      "25%       26.00      1.00                1.00\n",
      "50%       32.00      3.00                2.00\n",
      "75%       39.00      4.00                3.00\n",
      "max       49.00     16.00                4.00\n"
     ]
    }
   ],
   "source": [
    "description = cmc_explore.describe()\n",
    "print(description)"
   ]
  },
  {
   "cell_type": "code",
   "execution_count": 12,
   "metadata": {},
   "outputs": [],
   "source": [
    "# Distribution of the wife's age "
   ]
  },
  {
   "cell_type": "code",
   "execution_count": 13,
   "metadata": {},
   "outputs": [
    {
     "data": {
      "image/png": "[encoded data removed]",
      "text/plain": [
       "<matplotlib.figure.Figure at 0x1a0aa37450>"
      ]
     },
     "metadata": {},
     "output_type": "display_data"
    }
   ],
   "source": [
    "cmc_explore['Age_wife'].plot(kind = 'density', figsize=(10, 8)),\n",
    "plt.xlabel('Age of the wife'),\n",
    "plt.title(\"Distribution of the wife's age\")\n",
    "plt.savefig('density.png')"
   ]
  },
  {
   "cell_type": "code",
   "execution_count": null,
   "metadata": {},
   "outputs": [],
   "source": []
  },
  {
   "cell_type": "code",
   "execution_count": 14,
   "metadata": {},
   "outputs": [
    {
     "data": {
      "image/png": "[encoded data removed]",
      "text/plain": [
       "<matplotlib.figure.Figure at 0x1a0aa4f610>"
      ]
     },
     "metadata": {},
     "output_type": "display_data"
    }
   ],
   "source": [
    "cmc_explore['Children'].plot(kind = 'density', figsize=(10, 8)),\n",
    "plt.xlabel('Number of Children'),\n",
    "plt.title(\"Distribution of Number of Children\")\n",
    "plt.savefig('density1.png')"
   ]
  },
  {
   "cell_type": "code",
   "execution_count": 15,
   "metadata": {},
   "outputs": [
    {
     "data": {
      "text/html": [
       "<div>\n",
       "<style scoped>\n",
       "    .dataframe tbody tr th:only-of-type {\n",
       "        vertical-align: middle;\n",
       "    }\n",
       "\n",
       "    .dataframe tbody tr th {\n",
       "        vertical-align: top;\n",
       "    }\n",
       "\n",
       "    .dataframe thead th {\n",
       "        text-align: right;\n",
       "    }\n",
       "</style>\n",
       "<table border=\"1\" class=\"dataframe\">\n",
       "  <thead>\n",
       "    <tr style=\"text-align: right;\">\n",
       "      <th>Standard_of_living_index</th>\n",
       "      <th>High</th>\n",
       "      <th>Low</th>\n",
       "      <th>Mid-High</th>\n",
       "      <th>Mid-Low</th>\n",
       "    </tr>\n",
       "    <tr>\n",
       "      <th>Contraceptive_method_used</th>\n",
       "      <th></th>\n",
       "      <th></th>\n",
       "      <th></th>\n",
       "      <th></th>\n",
       "    </tr>\n",
       "  </thead>\n",
       "  <tbody>\n",
       "    <tr>\n",
       "      <th>Long Term Measures</th>\n",
       "      <td>204</td>\n",
       "      <td>9</td>\n",
       "      <td>90</td>\n",
       "      <td>30</td>\n",
       "    </tr>\n",
       "    <tr>\n",
       "      <th>Not Using</th>\n",
       "      <td>248</td>\n",
       "      <td>80</td>\n",
       "      <td>184</td>\n",
       "      <td>117</td>\n",
       "    </tr>\n",
       "    <tr>\n",
       "      <th>Short Term Measures</th>\n",
       "      <td>232</td>\n",
       "      <td>40</td>\n",
       "      <td>157</td>\n",
       "      <td>82</td>\n",
       "    </tr>\n",
       "  </tbody>\n",
       "</table>\n",
       "</div>"
      ],
      "text/plain": [
       "Standard_of_living_index   High  Low  Mid-High  Mid-Low\n",
       "Contraceptive_method_used                              \n",
       "Long Term Measures          204    9        90       30\n",
       "Not Using                   248   80       184      117\n",
       "Short Term Measures         232   40       157       82"
      ]
     },
     "execution_count": 15,
     "metadata": {},
     "output_type": "execute_result"
    }
   ],
   "source": [
    "SOL_Contraceptive = pd.crosstab(index=cmc_explore[\"Contraceptive_method_used\"], columns=cmc_explore[\"Standard_of_living_index\"])\n",
    "\n",
    "SOL_Contraceptive"
   ]
  },
  {
   "cell_type": "code",
   "execution_count": 16,
   "metadata": {},
   "outputs": [
    {
     "data": {
      "image/png": "[encoded data removed]",
      "text/plain": [
       "<matplotlib.figure.Figure at 0x1a0aa37590>"
      ]
     },
     "metadata": {},
     "output_type": "display_data"
    }
   ],
   "source": [
    "SOL_Contraceptive.plot(kind=\"bar\",figsize=(8,8),stacked=True),plt.title(\"Standard of Living Index of Women and The Choice of Contraceptive Method\")\n",
    "plt.savefig('SOL.png')"
   ]
  },
  {
   "cell_type": "markdown",
   "metadata": {},
   "source": [
    "Majority of the women who scored low on the standard of living index were in the group that did not take any contraceptive precautions. There wasn no significant difference in the women who scored high on the standard of living index with respect to their contraceptive methods."
   ]
  },
  {
   "cell_type": "code",
   "execution_count": 17,
   "metadata": {},
   "outputs": [
    {
     "data": {
      "text/html": [
       "<div>\n",
       "<style scoped>\n",
       "    .dataframe tbody tr th:only-of-type {\n",
       "        vertical-align: middle;\n",
       "    }\n",
       "\n",
       "    .dataframe tbody tr th {\n",
       "        vertical-align: top;\n",
       "    }\n",
       "\n",
       "    .dataframe thead th {\n",
       "        text-align: right;\n",
       "    }\n",
       "</style>\n",
       "<table border=\"1\" class=\"dataframe\">\n",
       "  <thead>\n",
       "    <tr style=\"text-align: right;\">\n",
       "      <th>Working_wife</th>\n",
       "      <th>No</th>\n",
       "      <th>Yes</th>\n",
       "    </tr>\n",
       "    <tr>\n",
       "      <th>Contraceptive_method_used</th>\n",
       "      <th></th>\n",
       "      <th></th>\n",
       "    </tr>\n",
       "  </thead>\n",
       "  <tbody>\n",
       "    <tr>\n",
       "      <th>Long Term Measures</th>\n",
       "      <td>0.73</td>\n",
       "      <td>0.27</td>\n",
       "    </tr>\n",
       "    <tr>\n",
       "      <th>Not Using</th>\n",
       "      <td>0.73</td>\n",
       "      <td>0.27</td>\n",
       "    </tr>\n",
       "    <tr>\n",
       "      <th>Short Term Measures</th>\n",
       "      <td>0.78</td>\n",
       "      <td>0.22</td>\n",
       "    </tr>\n",
       "  </tbody>\n",
       "</table>\n",
       "</div>"
      ],
      "text/plain": [
       "Working_wife                No  Yes\n",
       "Contraceptive_method_used          \n",
       "Long Term Measures        0.73 0.27\n",
       "Not Using                 0.73 0.27\n",
       "Short Term Measures       0.78 0.22"
      ]
     },
     "execution_count": 17,
     "metadata": {},
     "output_type": "execute_result"
    }
   ],
   "source": [
    "Working_Women_Contraceptive = pd.crosstab(index=cmc_explore[\"Contraceptive_method_used\"],columns=cmc_explore[\"Working_wife\"],normalize='index')\n",
    "Working_Women_Contraceptive"
   ]
  },
  {
   "cell_type": "code",
   "execution_count": 18,
   "metadata": {},
   "outputs": [
    {
     "data": {
      "text/plain": [
       "(<matplotlib.axes._subplots.AxesSubplot at 0x1a12dfd390>,\n",
       " Text(0.5,1,u'Women Who Were Employed and Their choice Of Contraceptive Method'))"
      ]
     },
     "execution_count": 18,
     "metadata": {},
     "output_type": "execute_result"
    },
    {
     "data": {
      "image/png": "[encoded data removed]",
      "text/plain": [
       "<matplotlib.figure.Figure at 0x1a0aa1b650>"
      ]
     },
     "metadata": {},
     "output_type": "display_data"
    }
   ],
   "source": [
    "Working_Women_Contraceptive.plot(kind=\"bar\",figsize=(8,8), stacked=True),plt.title(\"Women Who Were Employed and Their choice Of Contraceptive Method\")"
   ]
  },
  {
   "cell_type": "markdown",
   "metadata": {},
   "source": [
    "#### The above graph shows that women who were not using the contraceptives were mostly in the not working group"
   ]
  },
  {
   "cell_type": "code",
   "execution_count": 19,
   "metadata": {},
   "outputs": [
    {
     "data": {
      "image/png": "[encoded data removed]",
      "text/plain": [
       "<matplotlib.figure.Figure at 0x1a12df2dd0>"
      ]
     },
     "metadata": {},
     "output_type": "display_data"
    }
   ],
   "source": [
    "cmc_explore.groupby('Occupation_husband').Contraceptive_method_used.value_counts().unstack(0).plot(kind='bar',figsize=(10, 8))\n",
    "plt.xlabel(\"Contraceptive Method\")\n",
    "plt.title(\"Husband's Occupation and Contraceptive Use\")\n",
    "plt.savefig('Husband.png')"
   ]
  },
  {
   "cell_type": "code",
   "execution_count": 20,
   "metadata": {},
   "outputs": [
    {
     "data": {
      "image/png": "[encoded data removed]",
      "text/plain": [
       "<matplotlib.figure.Figure at 0x1a12ead210>"
      ]
     },
     "metadata": {},
     "output_type": "display_data"
    }
   ],
   "source": [
    "cmc_explore.groupby('Education_husband').Contraceptive_method_used.value_counts().unstack(0).plot(kind='bar',figsize=(10, 8))\n",
    "plt.xlabel(\"Contraceptive Method\")\n",
    "plt.title(\"Husband's Education Level and Contraceptive Use\")\n",
    "plt.savefig('Education.png')"
   ]
  },
  {
   "cell_type": "markdown",
   "metadata": {},
   "source": [
    "#### The above graph shows that the highest group who did not use any contraceptives was of husband's with high educational qualifications and the least group was the one with low educational qualifications."
   ]
  },
  {
   "cell_type": "code",
   "execution_count": 21,
   "metadata": {},
   "outputs": [
    {
     "data": {
      "image/png": "[encoded data removed]",
      "text/plain": [
       "<matplotlib.figure.Figure at 0x1a13843790>"
      ]
     },
     "metadata": {},
     "output_type": "display_data"
    }
   ],
   "source": [
    "cmc_explore.groupby('Education_wife').Contraceptive_method_used.value_counts().unstack(0).plot(kind='bar',figsize=(10, 8))\n",
    "plt.title(\"Contraceptive Usage and Wife's Education\"),\n",
    "plt.xlabel('Contraceptive Method Used')\n",
    "plt.savefig(\"Wife's_Education.png\")"
   ]
  },
  {
   "cell_type": "markdown",
   "metadata": {},
   "source": [
    "#### The above graph shows that majority of the women with long term plans were women with high educational backgrounds. The number of women with low educational background were least likely to have a long term measure in place. The number of women using no contraceptive measures was almost equally distributed among the high, mid-high and mid-low educational backgrounds."
   ]
  },
  {
   "cell_type": "code",
   "execution_count": 22,
   "metadata": {},
   "outputs": [
    {
     "data": {
      "text/plain": [
       "Good Media Exposure       1364\n",
       "Limited Media Exposure     109\n",
       "Name: Media_exposure, dtype: int64"
      ]
     },
     "execution_count": 22,
     "metadata": {},
     "output_type": "execute_result"
    }
   ],
   "source": [
    "# Effect of media exposure on contraceptive usage\n",
    "cmc_explore['Media_exposure']. value_counts()"
   ]
  },
  {
   "cell_type": "code",
   "execution_count": 23,
   "metadata": {},
   "outputs": [
    {
     "data": {
      "image/png": "[encoded data removed]",
      "text/plain": [
       "<matplotlib.figure.Figure at 0x1a1383a690>"
      ]
     },
     "metadata": {},
     "output_type": "display_data"
    }
   ],
   "source": [
    "cmc_explore.groupby('Media_exposure').Contraceptive_method_used.value_counts().unstack(0).plot(kind='bar',figsize=(10, 10))\n",
    "plt.title(\"Contraceptive Usage and Media Exposure\"),\n",
    "plt.xlabel('Contraceptive Method Used')\n",
    "plt.savefig('Media.png')"
   ]
  },
  {
   "cell_type": "markdown",
   "metadata": {},
   "source": [
    "#### The above graph shows that a large portion of the women who used long term contraceptive measures were more exposed to media. The majority of women who were not using contraception had more exposure to media too. The number of women who did not have media exposure was very small compared to media savvy women, but the majority from the-former group had no contraceptive measures in place."
   ]
  },
  {
   "cell_type": "code",
   "execution_count": 24,
   "metadata": {},
   "outputs": [],
   "source": [
    "### Relation between Wife's religion on contraceptive method\n"
   ]
  },
  {
   "cell_type": "code",
   "execution_count": 25,
   "metadata": {},
   "outputs": [
    {
     "data": {
      "image/png": "[encoded data removed]",
      "text/plain": [
       "<matplotlib.figure.Figure at 0x1a12f029d0>"
      ]
     },
     "metadata": {},
     "output_type": "display_data"
    }
   ],
   "source": [
    "cmc_explore.groupby('Religion_wife').Contraceptive_method_used.value_counts().unstack(0).plot(kind='bar',figsize=(10, 8))\n",
    "plt.title(\"Contraceptive Usage and Wife's Religion\"),\n",
    "plt.xlabel('Contraceptive Method Used')\n",
    "plt.savefig('Religion.png')"
   ]
  },
  {
   "cell_type": "markdown",
   "metadata": {},
   "source": [
    "#### According to the above graph, majority of the women who chose not to use any contraceptive measures indicated Islam as their religion. The number of women who did not practise Islam were evenly distributed over the 3 contraceptive usage groups."
   ]
  },
  {
   "cell_type": "markdown",
   "metadata": {},
   "source": [
    "### Data Preparation before classification\n",
    "#### Encoding ordinal variable to numeric"
   ]
  },
  {
   "cell_type": "code",
   "execution_count": 2,
   "metadata": {},
   "outputs": [],
   "source": [
    "cmc = pd.read_csv(\"/Users/Vidya/Documents/Practical_Data_Science/Assignment_2/cmc.txt\", sep = ',', names = [\"Age_wife\", \"Education_wife\", \"Education_husband\", \"Children\", \"Religion_wife\", \"Working_wife\", \"Occupation_husband\", \"Standard_of_living_index\",\"Media_exposure\", \"Contraceptive_method_used\"])"
   ]
  },
  {
   "cell_type": "code",
   "execution_count": 3,
   "metadata": {},
   "outputs": [],
   "source": [
    "cmc = pd.concat([cmc,pd.get_dummies(cmc['Education_wife'], prefix='Ed_Wife')],axis=1)\n"
   ]
  },
  {
   "cell_type": "code",
   "execution_count": 4,
   "metadata": {},
   "outputs": [],
   "source": [
    "cmc.drop(['Education_wife'],axis=1, inplace=True)\n"
   ]
  },
  {
   "cell_type": "code",
   "execution_count": 5,
   "metadata": {},
   "outputs": [],
   "source": [
    "cmc = pd.concat([cmc,pd.get_dummies(cmc['Education_husband'], prefix='Ed_Hus')],axis=1)\n"
   ]
  },
  {
   "cell_type": "code",
   "execution_count": 6,
   "metadata": {},
   "outputs": [],
   "source": [
    "cmc.drop(['Education_husband'],axis=1, inplace=True)\n"
   ]
  },
  {
   "cell_type": "code",
   "execution_count": 7,
   "metadata": {},
   "outputs": [],
   "source": [
    "cmc = pd.concat([cmc,pd.get_dummies(cmc['Religion_wife'], prefix='Rel_wife')],axis=1)\n"
   ]
  },
  {
   "cell_type": "code",
   "execution_count": 8,
   "metadata": {},
   "outputs": [],
   "source": [
    "cmc.drop(['Religion_wife'],axis=1, inplace=True)\n"
   ]
  },
  {
   "cell_type": "code",
   "execution_count": 9,
   "metadata": {},
   "outputs": [],
   "source": [
    "cmc = pd.concat([cmc,pd.get_dummies(cmc['Working_wife'], prefix='Work_wife')],axis=1)\n"
   ]
  },
  {
   "cell_type": "code",
   "execution_count": 10,
   "metadata": {},
   "outputs": [],
   "source": [
    "cmc.drop(['Working_wife'],axis=1, inplace=True)\n"
   ]
  },
  {
   "cell_type": "code",
   "execution_count": 11,
   "metadata": {},
   "outputs": [],
   "source": [
    "cmc = pd.concat([cmc,pd.get_dummies(cmc['Occupation_husband'], prefix='Occ_Hus')],axis=1)\n"
   ]
  },
  {
   "cell_type": "code",
   "execution_count": 12,
   "metadata": {},
   "outputs": [],
   "source": [
    "cmc.drop(['Occupation_husband'],axis=1, inplace=True)\n"
   ]
  },
  {
   "cell_type": "code",
   "execution_count": 13,
   "metadata": {},
   "outputs": [],
   "source": [
    "cmc = pd.concat([cmc,pd.get_dummies(cmc['Media_exposure'], prefix='Med_exp')],axis=1)\n",
    "\n"
   ]
  },
  {
   "cell_type": "code",
   "execution_count": 14,
   "metadata": {},
   "outputs": [],
   "source": [
    "cmc.drop(['Media_exposure'], axis = 1, inplace = True)"
   ]
  },
  {
   "cell_type": "code",
   "execution_count": 15,
   "metadata": {},
   "outputs": [],
   "source": [
    "cmc = pd.concat([cmc,pd.get_dummies(cmc['Standard_of_living_index'], prefix='SOL')],axis=1)\n"
   ]
  },
  {
   "cell_type": "code",
   "execution_count": 16,
   "metadata": {},
   "outputs": [],
   "source": [
    "cmc.drop(['Standard_of_living_index'],axis=1, inplace=True)\n"
   ]
  },
  {
   "cell_type": "code",
   "execution_count": 106,
   "metadata": {},
   "outputs": [
    {
     "data": {
      "text/plain": [
       "1473"
      ]
     },
     "execution_count": 106,
     "metadata": {},
     "output_type": "execute_result"
    }
   ],
   "source": [
    "len(cmc)"
   ]
  },
  {
   "cell_type": "code",
   "execution_count": 17,
   "metadata": {},
   "outputs": [
    {
     "data": {
      "text/html": [
       "<div>\n",
       "<style scoped>\n",
       "    .dataframe tbody tr th:only-of-type {\n",
       "        vertical-align: middle;\n",
       "    }\n",
       "\n",
       "    .dataframe tbody tr th {\n",
       "        vertical-align: top;\n",
       "    }\n",
       "\n",
       "    .dataframe thead th {\n",
       "        text-align: right;\n",
       "    }\n",
       "</style>\n",
       "<table border=\"1\" class=\"dataframe\">\n",
       "  <thead>\n",
       "    <tr style=\"text-align: right;\">\n",
       "      <th></th>\n",
       "      <th>Age_wife</th>\n",
       "      <th>Children</th>\n",
       "      <th>Contraceptive_method_used</th>\n",
       "      <th>Ed_Wife_1</th>\n",
       "      <th>Ed_Wife_2</th>\n",
       "      <th>Ed_Wife_3</th>\n",
       "      <th>Ed_Wife_4</th>\n",
       "      <th>Ed_Hus_1</th>\n",
       "      <th>Ed_Hus_2</th>\n",
       "      <th>Ed_Hus_3</th>\n",
       "      <th>...</th>\n",
       "      <th>Occ_Hus_1</th>\n",
       "      <th>Occ_Hus_2</th>\n",
       "      <th>Occ_Hus_3</th>\n",
       "      <th>Occ_Hus_4</th>\n",
       "      <th>Med_exp_0</th>\n",
       "      <th>Med_exp_1</th>\n",
       "      <th>SOL_1</th>\n",
       "      <th>SOL_2</th>\n",
       "      <th>SOL_3</th>\n",
       "      <th>SOL_4</th>\n",
       "    </tr>\n",
       "  </thead>\n",
       "  <tbody>\n",
       "    <tr>\n",
       "      <th>0</th>\n",
       "      <td>24</td>\n",
       "      <td>3</td>\n",
       "      <td>1</td>\n",
       "      <td>0</td>\n",
       "      <td>1</td>\n",
       "      <td>0</td>\n",
       "      <td>0</td>\n",
       "      <td>0</td>\n",
       "      <td>0</td>\n",
       "      <td>1</td>\n",
       "      <td>...</td>\n",
       "      <td>0</td>\n",
       "      <td>1</td>\n",
       "      <td>0</td>\n",
       "      <td>0</td>\n",
       "      <td>1</td>\n",
       "      <td>0</td>\n",
       "      <td>0</td>\n",
       "      <td>0</td>\n",
       "      <td>1</td>\n",
       "      <td>0</td>\n",
       "    </tr>\n",
       "    <tr>\n",
       "      <th>1</th>\n",
       "      <td>45</td>\n",
       "      <td>10</td>\n",
       "      <td>1</td>\n",
       "      <td>1</td>\n",
       "      <td>0</td>\n",
       "      <td>0</td>\n",
       "      <td>0</td>\n",
       "      <td>0</td>\n",
       "      <td>0</td>\n",
       "      <td>1</td>\n",
       "      <td>...</td>\n",
       "      <td>0</td>\n",
       "      <td>0</td>\n",
       "      <td>1</td>\n",
       "      <td>0</td>\n",
       "      <td>1</td>\n",
       "      <td>0</td>\n",
       "      <td>0</td>\n",
       "      <td>0</td>\n",
       "      <td>0</td>\n",
       "      <td>1</td>\n",
       "    </tr>\n",
       "    <tr>\n",
       "      <th>2</th>\n",
       "      <td>43</td>\n",
       "      <td>7</td>\n",
       "      <td>1</td>\n",
       "      <td>0</td>\n",
       "      <td>1</td>\n",
       "      <td>0</td>\n",
       "      <td>0</td>\n",
       "      <td>0</td>\n",
       "      <td>0</td>\n",
       "      <td>1</td>\n",
       "      <td>...</td>\n",
       "      <td>0</td>\n",
       "      <td>0</td>\n",
       "      <td>1</td>\n",
       "      <td>0</td>\n",
       "      <td>1</td>\n",
       "      <td>0</td>\n",
       "      <td>0</td>\n",
       "      <td>0</td>\n",
       "      <td>0</td>\n",
       "      <td>1</td>\n",
       "    </tr>\n",
       "    <tr>\n",
       "      <th>3</th>\n",
       "      <td>42</td>\n",
       "      <td>9</td>\n",
       "      <td>1</td>\n",
       "      <td>0</td>\n",
       "      <td>0</td>\n",
       "      <td>1</td>\n",
       "      <td>0</td>\n",
       "      <td>0</td>\n",
       "      <td>1</td>\n",
       "      <td>0</td>\n",
       "      <td>...</td>\n",
       "      <td>0</td>\n",
       "      <td>0</td>\n",
       "      <td>1</td>\n",
       "      <td>0</td>\n",
       "      <td>1</td>\n",
       "      <td>0</td>\n",
       "      <td>0</td>\n",
       "      <td>0</td>\n",
       "      <td>1</td>\n",
       "      <td>0</td>\n",
       "    </tr>\n",
       "    <tr>\n",
       "      <th>4</th>\n",
       "      <td>36</td>\n",
       "      <td>8</td>\n",
       "      <td>1</td>\n",
       "      <td>0</td>\n",
       "      <td>0</td>\n",
       "      <td>1</td>\n",
       "      <td>0</td>\n",
       "      <td>0</td>\n",
       "      <td>0</td>\n",
       "      <td>1</td>\n",
       "      <td>...</td>\n",
       "      <td>0</td>\n",
       "      <td>0</td>\n",
       "      <td>1</td>\n",
       "      <td>0</td>\n",
       "      <td>1</td>\n",
       "      <td>0</td>\n",
       "      <td>0</td>\n",
       "      <td>1</td>\n",
       "      <td>0</td>\n",
       "      <td>0</td>\n",
       "    </tr>\n",
       "    <tr>\n",
       "      <th>5</th>\n",
       "      <td>19</td>\n",
       "      <td>0</td>\n",
       "      <td>1</td>\n",
       "      <td>0</td>\n",
       "      <td>0</td>\n",
       "      <td>0</td>\n",
       "      <td>1</td>\n",
       "      <td>0</td>\n",
       "      <td>0</td>\n",
       "      <td>0</td>\n",
       "      <td>...</td>\n",
       "      <td>0</td>\n",
       "      <td>0</td>\n",
       "      <td>1</td>\n",
       "      <td>0</td>\n",
       "      <td>1</td>\n",
       "      <td>0</td>\n",
       "      <td>0</td>\n",
       "      <td>0</td>\n",
       "      <td>1</td>\n",
       "      <td>0</td>\n",
       "    </tr>\n",
       "    <tr>\n",
       "      <th>6</th>\n",
       "      <td>38</td>\n",
       "      <td>6</td>\n",
       "      <td>1</td>\n",
       "      <td>0</td>\n",
       "      <td>1</td>\n",
       "      <td>0</td>\n",
       "      <td>0</td>\n",
       "      <td>0</td>\n",
       "      <td>0</td>\n",
       "      <td>1</td>\n",
       "      <td>...</td>\n",
       "      <td>0</td>\n",
       "      <td>0</td>\n",
       "      <td>1</td>\n",
       "      <td>0</td>\n",
       "      <td>1</td>\n",
       "      <td>0</td>\n",
       "      <td>0</td>\n",
       "      <td>1</td>\n",
       "      <td>0</td>\n",
       "      <td>0</td>\n",
       "    </tr>\n",
       "    <tr>\n",
       "      <th>7</th>\n",
       "      <td>21</td>\n",
       "      <td>1</td>\n",
       "      <td>1</td>\n",
       "      <td>0</td>\n",
       "      <td>0</td>\n",
       "      <td>1</td>\n",
       "      <td>0</td>\n",
       "      <td>0</td>\n",
       "      <td>0</td>\n",
       "      <td>1</td>\n",
       "      <td>...</td>\n",
       "      <td>0</td>\n",
       "      <td>0</td>\n",
       "      <td>1</td>\n",
       "      <td>0</td>\n",
       "      <td>1</td>\n",
       "      <td>0</td>\n",
       "      <td>0</td>\n",
       "      <td>1</td>\n",
       "      <td>0</td>\n",
       "      <td>0</td>\n",
       "    </tr>\n",
       "    <tr>\n",
       "      <th>8</th>\n",
       "      <td>27</td>\n",
       "      <td>3</td>\n",
       "      <td>1</td>\n",
       "      <td>0</td>\n",
       "      <td>1</td>\n",
       "      <td>0</td>\n",
       "      <td>0</td>\n",
       "      <td>0</td>\n",
       "      <td>0</td>\n",
       "      <td>1</td>\n",
       "      <td>...</td>\n",
       "      <td>0</td>\n",
       "      <td>0</td>\n",
       "      <td>1</td>\n",
       "      <td>0</td>\n",
       "      <td>1</td>\n",
       "      <td>0</td>\n",
       "      <td>0</td>\n",
       "      <td>0</td>\n",
       "      <td>0</td>\n",
       "      <td>1</td>\n",
       "    </tr>\n",
       "    <tr>\n",
       "      <th>9</th>\n",
       "      <td>45</td>\n",
       "      <td>8</td>\n",
       "      <td>1</td>\n",
       "      <td>1</td>\n",
       "      <td>0</td>\n",
       "      <td>0</td>\n",
       "      <td>0</td>\n",
       "      <td>1</td>\n",
       "      <td>0</td>\n",
       "      <td>0</td>\n",
       "      <td>...</td>\n",
       "      <td>0</td>\n",
       "      <td>1</td>\n",
       "      <td>0</td>\n",
       "      <td>0</td>\n",
       "      <td>0</td>\n",
       "      <td>1</td>\n",
       "      <td>0</td>\n",
       "      <td>1</td>\n",
       "      <td>0</td>\n",
       "      <td>0</td>\n",
       "    </tr>\n",
       "  </tbody>\n",
       "</table>\n",
       "<p>10 rows × 25 columns</p>\n",
       "</div>"
      ],
      "text/plain": [
       "   Age_wife  Children  Contraceptive_method_used  Ed_Wife_1  Ed_Wife_2  \\\n",
       "0        24         3                          1          0          1   \n",
       "1        45        10                          1          1          0   \n",
       "2        43         7                          1          0          1   \n",
       "3        42         9                          1          0          0   \n",
       "4        36         8                          1          0          0   \n",
       "5        19         0                          1          0          0   \n",
       "6        38         6                          1          0          1   \n",
       "7        21         1                          1          0          0   \n",
       "8        27         3                          1          0          1   \n",
       "9        45         8                          1          1          0   \n",
       "\n",
       "   Ed_Wife_3  Ed_Wife_4  Ed_Hus_1  Ed_Hus_2  Ed_Hus_3  ...    Occ_Hus_1  \\\n",
       "0          0          0         0         0         1  ...            0   \n",
       "1          0          0         0         0         1  ...            0   \n",
       "2          0          0         0         0         1  ...            0   \n",
       "3          1          0         0         1         0  ...            0   \n",
       "4          1          0         0         0         1  ...            0   \n",
       "5          0          1         0         0         0  ...            0   \n",
       "6          0          0         0         0         1  ...            0   \n",
       "7          1          0         0         0         1  ...            0   \n",
       "8          0          0         0         0         1  ...            0   \n",
       "9          0          0         1         0         0  ...            0   \n",
       "\n",
       "   Occ_Hus_2  Occ_Hus_3  Occ_Hus_4  Med_exp_0  Med_exp_1  SOL_1  SOL_2  SOL_3  \\\n",
       "0          1          0          0          1          0      0      0      1   \n",
       "1          0          1          0          1          0      0      0      0   \n",
       "2          0          1          0          1          0      0      0      0   \n",
       "3          0          1          0          1          0      0      0      1   \n",
       "4          0          1          0          1          0      0      1      0   \n",
       "5          0          1          0          1          0      0      0      1   \n",
       "6          0          1          0          1          0      0      1      0   \n",
       "7          0          1          0          1          0      0      1      0   \n",
       "8          0          1          0          1          0      0      0      0   \n",
       "9          1          0          0          0          1      0      1      0   \n",
       "\n",
       "   SOL_4  \n",
       "0      0  \n",
       "1      1  \n",
       "2      1  \n",
       "3      0  \n",
       "4      0  \n",
       "5      0  \n",
       "6      0  \n",
       "7      0  \n",
       "8      1  \n",
       "9      0  \n",
       "\n",
       "[10 rows x 25 columns]"
      ]
     },
     "execution_count": 17,
     "metadata": {},
     "output_type": "execute_result"
    }
   ],
   "source": [
    "cmc.head(10)"
   ]
  },
  {
   "cell_type": "code",
   "execution_count": 18,
   "metadata": {},
   "outputs": [
    {
     "name": "stdout",
     "output_type": "stream",
     "text": [
      "          Age_wife     Children  Contraceptive_method_used    Ed_Wife_1  \\\n",
      "count  1473.000000  1473.000000                1473.000000  1473.000000   \n",
      "mean     32.538357     3.261371                   1.919891     0.103191   \n",
      "std       8.227245     2.358549                   0.876376     0.304311   \n",
      "min      16.000000     0.000000                   1.000000     0.000000   \n",
      "25%      26.000000     1.000000                   1.000000     0.000000   \n",
      "50%      32.000000     3.000000                   2.000000     0.000000   \n",
      "75%      39.000000     4.000000                   3.000000     0.000000   \n",
      "max      49.000000    16.000000                   3.000000     1.000000   \n",
      "\n",
      "         Ed_Wife_2    Ed_Wife_3    Ed_Wife_4     Ed_Hus_1     Ed_Hus_2  \\\n",
      "count  1473.000000  1473.000000  1473.000000  1473.000000  1473.000000   \n",
      "mean      0.226748     0.278344     0.391718     0.029871     0.120842   \n",
      "std       0.418871     0.448336     0.488300     0.170289     0.326054   \n",
      "min       0.000000     0.000000     0.000000     0.000000     0.000000   \n",
      "25%       0.000000     0.000000     0.000000     0.000000     0.000000   \n",
      "50%       0.000000     0.000000     0.000000     0.000000     0.000000   \n",
      "75%       0.000000     1.000000     1.000000     0.000000     0.000000   \n",
      "max       1.000000     1.000000     1.000000     1.000000     1.000000   \n",
      "\n",
      "          Ed_Hus_3     ...         Occ_Hus_1    Occ_Hus_2    Occ_Hus_3  \\\n",
      "count  1473.000000     ...       1473.000000  1473.000000  1473.000000   \n",
      "mean      0.238968     ...          0.295995     0.288527     0.397149   \n",
      "std       0.426598     ...          0.456644     0.453231     0.489473   \n",
      "min       0.000000     ...          0.000000     0.000000     0.000000   \n",
      "25%       0.000000     ...          0.000000     0.000000     0.000000   \n",
      "50%       0.000000     ...          0.000000     0.000000     0.000000   \n",
      "75%       0.000000     ...          1.000000     1.000000     1.000000   \n",
      "max       1.000000     ...          1.000000     1.000000     1.000000   \n",
      "\n",
      "         Occ_Hus_4    Med_exp_0    Med_exp_1        SOL_1        SOL_2  \\\n",
      "count  1473.000000  1473.000000  1473.000000  1473.000000  1473.000000   \n",
      "mean      0.018330     0.926001     0.073999     0.087576     0.155465   \n",
      "std       0.134187     0.261858     0.261858     0.282774     0.362470   \n",
      "min       0.000000     0.000000     0.000000     0.000000     0.000000   \n",
      "25%       0.000000     1.000000     0.000000     0.000000     0.000000   \n",
      "50%       0.000000     1.000000     0.000000     0.000000     0.000000   \n",
      "75%       0.000000     1.000000     0.000000     0.000000     0.000000   \n",
      "max       1.000000     1.000000     1.000000     1.000000     1.000000   \n",
      "\n",
      "             SOL_3        SOL_4  \n",
      "count  1473.000000  1473.000000  \n",
      "mean      0.292600     0.464358  \n",
      "std       0.455111     0.498897  \n",
      "min       0.000000     0.000000  \n",
      "25%       0.000000     0.000000  \n",
      "50%       0.000000     0.000000  \n",
      "75%       1.000000     1.000000  \n",
      "max       1.000000     1.000000  \n",
      "\n",
      "[8 rows x 25 columns]\n"
     ]
    }
   ],
   "source": [
    "description = cmc.describe()\n",
    "print(description)"
   ]
  },
  {
   "cell_type": "markdown",
   "metadata": {},
   "source": [
    "## Partitioning the dataset"
   ]
  },
  {
   "cell_type": "code",
   "execution_count": 19,
   "metadata": {},
   "outputs": [],
   "source": [
    "import numpy as np\n",
    "from sklearn.model_selection import train_test_split\n",
    "from sklearn.model_selection import GridSearchCV\n",
    "from sklearn.metrics import classification_report\n",
    "from sklearn.svm import SVC"
   ]
  },
  {
   "cell_type": "code",
   "execution_count": 20,
   "metadata": {},
   "outputs": [
    {
     "data": {
      "text/html": [
       "<div>\n",
       "<style scoped>\n",
       "    .dataframe tbody tr th:only-of-type {\n",
       "        vertical-align: middle;\n",
       "    }\n",
       "\n",
       "    .dataframe tbody tr th {\n",
       "        vertical-align: top;\n",
       "    }\n",
       "\n",
       "    .dataframe thead th {\n",
       "        text-align: right;\n",
       "    }\n",
       "</style>\n",
       "<table border=\"1\" class=\"dataframe\">\n",
       "  <thead>\n",
       "    <tr style=\"text-align: right;\">\n",
       "      <th></th>\n",
       "      <th>Age_wife</th>\n",
       "      <th>Children</th>\n",
       "      <th>Contraceptive_method_used</th>\n",
       "      <th>Ed_Wife_1</th>\n",
       "      <th>Ed_Wife_2</th>\n",
       "      <th>Ed_Wife_3</th>\n",
       "      <th>Ed_Wife_4</th>\n",
       "      <th>Ed_Hus_1</th>\n",
       "      <th>Ed_Hus_2</th>\n",
       "      <th>Ed_Hus_3</th>\n",
       "      <th>...</th>\n",
       "      <th>Occ_Hus_1</th>\n",
       "      <th>Occ_Hus_2</th>\n",
       "      <th>Occ_Hus_3</th>\n",
       "      <th>Occ_Hus_4</th>\n",
       "      <th>Med_exp_0</th>\n",
       "      <th>Med_exp_1</th>\n",
       "      <th>SOL_1</th>\n",
       "      <th>SOL_2</th>\n",
       "      <th>SOL_3</th>\n",
       "      <th>SOL_4</th>\n",
       "    </tr>\n",
       "  </thead>\n",
       "  <tbody>\n",
       "    <tr>\n",
       "      <th>0</th>\n",
       "      <td>24</td>\n",
       "      <td>3</td>\n",
       "      <td>1</td>\n",
       "      <td>0</td>\n",
       "      <td>1</td>\n",
       "      <td>0</td>\n",
       "      <td>0</td>\n",
       "      <td>0</td>\n",
       "      <td>0</td>\n",
       "      <td>1</td>\n",
       "      <td>...</td>\n",
       "      <td>0</td>\n",
       "      <td>1</td>\n",
       "      <td>0</td>\n",
       "      <td>0</td>\n",
       "      <td>1</td>\n",
       "      <td>0</td>\n",
       "      <td>0</td>\n",
       "      <td>0</td>\n",
       "      <td>1</td>\n",
       "      <td>0</td>\n",
       "    </tr>\n",
       "    <tr>\n",
       "      <th>1</th>\n",
       "      <td>45</td>\n",
       "      <td>10</td>\n",
       "      <td>1</td>\n",
       "      <td>1</td>\n",
       "      <td>0</td>\n",
       "      <td>0</td>\n",
       "      <td>0</td>\n",
       "      <td>0</td>\n",
       "      <td>0</td>\n",
       "      <td>1</td>\n",
       "      <td>...</td>\n",
       "      <td>0</td>\n",
       "      <td>0</td>\n",
       "      <td>1</td>\n",
       "      <td>0</td>\n",
       "      <td>1</td>\n",
       "      <td>0</td>\n",
       "      <td>0</td>\n",
       "      <td>0</td>\n",
       "      <td>0</td>\n",
       "      <td>1</td>\n",
       "    </tr>\n",
       "    <tr>\n",
       "      <th>2</th>\n",
       "      <td>43</td>\n",
       "      <td>7</td>\n",
       "      <td>1</td>\n",
       "      <td>0</td>\n",
       "      <td>1</td>\n",
       "      <td>0</td>\n",
       "      <td>0</td>\n",
       "      <td>0</td>\n",
       "      <td>0</td>\n",
       "      <td>1</td>\n",
       "      <td>...</td>\n",
       "      <td>0</td>\n",
       "      <td>0</td>\n",
       "      <td>1</td>\n",
       "      <td>0</td>\n",
       "      <td>1</td>\n",
       "      <td>0</td>\n",
       "      <td>0</td>\n",
       "      <td>0</td>\n",
       "      <td>0</td>\n",
       "      <td>1</td>\n",
       "    </tr>\n",
       "    <tr>\n",
       "      <th>3</th>\n",
       "      <td>42</td>\n",
       "      <td>9</td>\n",
       "      <td>1</td>\n",
       "      <td>0</td>\n",
       "      <td>0</td>\n",
       "      <td>1</td>\n",
       "      <td>0</td>\n",
       "      <td>0</td>\n",
       "      <td>1</td>\n",
       "      <td>0</td>\n",
       "      <td>...</td>\n",
       "      <td>0</td>\n",
       "      <td>0</td>\n",
       "      <td>1</td>\n",
       "      <td>0</td>\n",
       "      <td>1</td>\n",
       "      <td>0</td>\n",
       "      <td>0</td>\n",
       "      <td>0</td>\n",
       "      <td>1</td>\n",
       "      <td>0</td>\n",
       "    </tr>\n",
       "    <tr>\n",
       "      <th>4</th>\n",
       "      <td>36</td>\n",
       "      <td>8</td>\n",
       "      <td>1</td>\n",
       "      <td>0</td>\n",
       "      <td>0</td>\n",
       "      <td>1</td>\n",
       "      <td>0</td>\n",
       "      <td>0</td>\n",
       "      <td>0</td>\n",
       "      <td>1</td>\n",
       "      <td>...</td>\n",
       "      <td>0</td>\n",
       "      <td>0</td>\n",
       "      <td>1</td>\n",
       "      <td>0</td>\n",
       "      <td>1</td>\n",
       "      <td>0</td>\n",
       "      <td>0</td>\n",
       "      <td>1</td>\n",
       "      <td>0</td>\n",
       "      <td>0</td>\n",
       "    </tr>\n",
       "    <tr>\n",
       "      <th>5</th>\n",
       "      <td>19</td>\n",
       "      <td>0</td>\n",
       "      <td>1</td>\n",
       "      <td>0</td>\n",
       "      <td>0</td>\n",
       "      <td>0</td>\n",
       "      <td>1</td>\n",
       "      <td>0</td>\n",
       "      <td>0</td>\n",
       "      <td>0</td>\n",
       "      <td>...</td>\n",
       "      <td>0</td>\n",
       "      <td>0</td>\n",
       "      <td>1</td>\n",
       "      <td>0</td>\n",
       "      <td>1</td>\n",
       "      <td>0</td>\n",
       "      <td>0</td>\n",
       "      <td>0</td>\n",
       "      <td>1</td>\n",
       "      <td>0</td>\n",
       "    </tr>\n",
       "    <tr>\n",
       "      <th>6</th>\n",
       "      <td>38</td>\n",
       "      <td>6</td>\n",
       "      <td>1</td>\n",
       "      <td>0</td>\n",
       "      <td>1</td>\n",
       "      <td>0</td>\n",
       "      <td>0</td>\n",
       "      <td>0</td>\n",
       "      <td>0</td>\n",
       "      <td>1</td>\n",
       "      <td>...</td>\n",
       "      <td>0</td>\n",
       "      <td>0</td>\n",
       "      <td>1</td>\n",
       "      <td>0</td>\n",
       "      <td>1</td>\n",
       "      <td>0</td>\n",
       "      <td>0</td>\n",
       "      <td>1</td>\n",
       "      <td>0</td>\n",
       "      <td>0</td>\n",
       "    </tr>\n",
       "    <tr>\n",
       "      <th>7</th>\n",
       "      <td>21</td>\n",
       "      <td>1</td>\n",
       "      <td>1</td>\n",
       "      <td>0</td>\n",
       "      <td>0</td>\n",
       "      <td>1</td>\n",
       "      <td>0</td>\n",
       "      <td>0</td>\n",
       "      <td>0</td>\n",
       "      <td>1</td>\n",
       "      <td>...</td>\n",
       "      <td>0</td>\n",
       "      <td>0</td>\n",
       "      <td>1</td>\n",
       "      <td>0</td>\n",
       "      <td>1</td>\n",
       "      <td>0</td>\n",
       "      <td>0</td>\n",
       "      <td>1</td>\n",
       "      <td>0</td>\n",
       "      <td>0</td>\n",
       "    </tr>\n",
       "    <tr>\n",
       "      <th>8</th>\n",
       "      <td>27</td>\n",
       "      <td>3</td>\n",
       "      <td>1</td>\n",
       "      <td>0</td>\n",
       "      <td>1</td>\n",
       "      <td>0</td>\n",
       "      <td>0</td>\n",
       "      <td>0</td>\n",
       "      <td>0</td>\n",
       "      <td>1</td>\n",
       "      <td>...</td>\n",
       "      <td>0</td>\n",
       "      <td>0</td>\n",
       "      <td>1</td>\n",
       "      <td>0</td>\n",
       "      <td>1</td>\n",
       "      <td>0</td>\n",
       "      <td>0</td>\n",
       "      <td>0</td>\n",
       "      <td>0</td>\n",
       "      <td>1</td>\n",
       "    </tr>\n",
       "    <tr>\n",
       "      <th>9</th>\n",
       "      <td>45</td>\n",
       "      <td>8</td>\n",
       "      <td>1</td>\n",
       "      <td>1</td>\n",
       "      <td>0</td>\n",
       "      <td>0</td>\n",
       "      <td>0</td>\n",
       "      <td>1</td>\n",
       "      <td>0</td>\n",
       "      <td>0</td>\n",
       "      <td>...</td>\n",
       "      <td>0</td>\n",
       "      <td>1</td>\n",
       "      <td>0</td>\n",
       "      <td>0</td>\n",
       "      <td>0</td>\n",
       "      <td>1</td>\n",
       "      <td>0</td>\n",
       "      <td>1</td>\n",
       "      <td>0</td>\n",
       "      <td>0</td>\n",
       "    </tr>\n",
       "  </tbody>\n",
       "</table>\n",
       "<p>10 rows × 25 columns</p>\n",
       "</div>"
      ],
      "text/plain": [
       "   Age_wife  Children  Contraceptive_method_used  Ed_Wife_1  Ed_Wife_2  \\\n",
       "0        24         3                          1          0          1   \n",
       "1        45        10                          1          1          0   \n",
       "2        43         7                          1          0          1   \n",
       "3        42         9                          1          0          0   \n",
       "4        36         8                          1          0          0   \n",
       "5        19         0                          1          0          0   \n",
       "6        38         6                          1          0          1   \n",
       "7        21         1                          1          0          0   \n",
       "8        27         3                          1          0          1   \n",
       "9        45         8                          1          1          0   \n",
       "\n",
       "   Ed_Wife_3  Ed_Wife_4  Ed_Hus_1  Ed_Hus_2  Ed_Hus_3  ...    Occ_Hus_1  \\\n",
       "0          0          0         0         0         1  ...            0   \n",
       "1          0          0         0         0         1  ...            0   \n",
       "2          0          0         0         0         1  ...            0   \n",
       "3          1          0         0         1         0  ...            0   \n",
       "4          1          0         0         0         1  ...            0   \n",
       "5          0          1         0         0         0  ...            0   \n",
       "6          0          0         0         0         1  ...            0   \n",
       "7          1          0         0         0         1  ...            0   \n",
       "8          0          0         0         0         1  ...            0   \n",
       "9          0          0         1         0         0  ...            0   \n",
       "\n",
       "   Occ_Hus_2  Occ_Hus_3  Occ_Hus_4  Med_exp_0  Med_exp_1  SOL_1  SOL_2  SOL_3  \\\n",
       "0          1          0          0          1          0      0      0      1   \n",
       "1          0          1          0          1          0      0      0      0   \n",
       "2          0          1          0          1          0      0      0      0   \n",
       "3          0          1          0          1          0      0      0      1   \n",
       "4          0          1          0          1          0      0      1      0   \n",
       "5          0          1          0          1          0      0      0      1   \n",
       "6          0          1          0          1          0      0      1      0   \n",
       "7          0          1          0          1          0      0      1      0   \n",
       "8          0          1          0          1          0      0      0      0   \n",
       "9          1          0          0          0          1      0      1      0   \n",
       "\n",
       "   SOL_4  \n",
       "0      0  \n",
       "1      1  \n",
       "2      1  \n",
       "3      0  \n",
       "4      0  \n",
       "5      0  \n",
       "6      0  \n",
       "7      0  \n",
       "8      1  \n",
       "9      0  \n",
       "\n",
       "[10 rows x 25 columns]"
      ]
     },
     "execution_count": 20,
     "metadata": {},
     "output_type": "execute_result"
    }
   ],
   "source": [
    "cmc.head(10)"
   ]
  },
  {
   "cell_type": "code",
   "execution_count": 21,
   "metadata": {},
   "outputs": [],
   "source": [
    "#cmc_features = cmc.values[0:1, 3:24]\n"
   ]
  },
  {
   "cell_type": "code",
   "execution_count": 22,
   "metadata": {},
   "outputs": [],
   "source": [
    "cmc_target = cmc.values[:,2]"
   ]
  },
  {
   "cell_type": "code",
   "execution_count": 23,
   "metadata": {},
   "outputs": [],
   "source": [
    "cmc_feature = cmc.drop('Contraceptive_method_used', axis=1)"
   ]
  },
  {
   "cell_type": "code",
   "execution_count": 24,
   "metadata": {},
   "outputs": [],
   "source": [
    "feature_names = cmc_feature.columns[0:24]"
   ]
  },
  {
   "cell_type": "code",
   "execution_count": 25,
   "metadata": {},
   "outputs": [],
   "source": [
    "\n",
    "\n",
    "\n",
    "cmc_features = cmc_feature.as_matrix()\n"
   ]
  },
  {
   "cell_type": "code",
   "execution_count": 26,
   "metadata": {},
   "outputs": [
    {
     "data": {
      "text/plain": [
       "1473"
      ]
     },
     "execution_count": 26,
     "metadata": {},
     "output_type": "execute_result"
    }
   ],
   "source": [
    "len(cmc_features)"
   ]
  },
  {
   "cell_type": "code",
   "execution_count": 27,
   "metadata": {},
   "outputs": [
    {
     "data": {
      "text/plain": [
       "numpy.ndarray"
      ]
     },
     "execution_count": 27,
     "metadata": {},
     "output_type": "execute_result"
    }
   ],
   "source": [
    "type(cmc_features)"
   ]
  },
  {
   "cell_type": "code",
   "execution_count": 28,
   "metadata": {},
   "outputs": [
    {
     "data": {
      "text/plain": [
       "array([[24,  3,  0, ...,  0,  1,  0],\n",
       "       [45, 10,  1, ...,  0,  0,  1],\n",
       "       [43,  7,  0, ...,  0,  0,  1],\n",
       "       ...,\n",
       "       [39,  8,  0, ...,  0,  0,  1],\n",
       "       [33,  4,  0, ...,  1,  0,  0],\n",
       "       [17,  1,  0, ...,  0,  0,  1]])"
      ]
     },
     "execution_count": 28,
     "metadata": {},
     "output_type": "execute_result"
    }
   ],
   "source": [
    "cmc_features"
   ]
  },
  {
   "cell_type": "code",
   "execution_count": 29,
   "metadata": {},
   "outputs": [
    {
     "data": {
      "text/plain": [
       "numpy.ndarray"
      ]
     },
     "execution_count": 29,
     "metadata": {},
     "output_type": "execute_result"
    }
   ],
   "source": [
    "type(cmc_target)"
   ]
  },
  {
   "cell_type": "code",
   "execution_count": 30,
   "metadata": {},
   "outputs": [
    {
     "data": {
      "text/plain": [
       "array([1, 1, 1, ..., 3, 3, 3])"
      ]
     },
     "execution_count": 30,
     "metadata": {},
     "output_type": "execute_result"
    }
   ],
   "source": [
    "cmc_target"
   ]
  },
  {
   "cell_type": "markdown",
   "metadata": {},
   "source": [
    "#### Generate train and test data"
   ]
  },
  {
   "cell_type": "code",
   "execution_count": 31,
   "metadata": {},
   "outputs": [],
   "source": [
    "X_train, X_test, y_train, y_test = train_test_split(cmc_features, cmc_target, test_size = 0.30, random_state = 0)"
   ]
  },
  {
   "cell_type": "code",
   "execution_count": 32,
   "metadata": {},
   "outputs": [
    {
     "data": {
      "text/plain": [
       "array([[40,  8,  0, ...,  1,  0,  0],\n",
       "       [47,  6,  1, ...,  0,  0,  0],\n",
       "       [28,  1,  0, ...,  0,  1,  0],\n",
       "       ...,\n",
       "       [31,  4,  0, ...,  0,  1,  0],\n",
       "       [29,  4,  0, ...,  1,  0,  0],\n",
       "       [40,  2,  0, ...,  0,  0,  1]])"
      ]
     },
     "execution_count": 32,
     "metadata": {},
     "output_type": "execute_result"
    }
   ],
   "source": [
    "X_train"
   ]
  },
  {
   "cell_type": "code",
   "execution_count": 33,
   "metadata": {},
   "outputs": [
    {
     "data": {
      "text/plain": [
       "(1031, 24)"
      ]
     },
     "execution_count": 33,
     "metadata": {},
     "output_type": "execute_result"
    }
   ],
   "source": [
    "X_train.shape"
   ]
  },
  {
   "cell_type": "code",
   "execution_count": 34,
   "metadata": {},
   "outputs": [
    {
     "data": {
      "text/plain": [
       "array([1, 1, 3, ..., 2, 2, 3])"
      ]
     },
     "execution_count": 34,
     "metadata": {},
     "output_type": "execute_result"
    }
   ],
   "source": [
    "y_train"
   ]
  },
  {
   "cell_type": "code",
   "execution_count": 35,
   "metadata": {},
   "outputs": [
    {
     "data": {
      "text/plain": [
       "(1031,)"
      ]
     },
     "execution_count": 35,
     "metadata": {},
     "output_type": "execute_result"
    }
   ],
   "source": [
    "y_train.shape"
   ]
  },
  {
   "cell_type": "code",
   "execution_count": 36,
   "metadata": {},
   "outputs": [
    {
     "data": {
      "text/plain": [
       "array([[27,  0,  0, ...,  0,  1,  0],\n",
       "       [36,  3,  0, ...,  0,  1,  0],\n",
       "       [39,  3,  0, ...,  0,  0,  1],\n",
       "       ...,\n",
       "       [24,  1,  0, ...,  0,  1,  0],\n",
       "       [47,  5,  0, ...,  0,  0,  1],\n",
       "       [31,  4,  0, ...,  0,  1,  0]])"
      ]
     },
     "execution_count": 36,
     "metadata": {},
     "output_type": "execute_result"
    }
   ],
   "source": [
    "X_test"
   ]
  },
  {
   "cell_type": "code",
   "execution_count": 37,
   "metadata": {},
   "outputs": [
    {
     "data": {
      "text/plain": [
       "(442, 24)"
      ]
     },
     "execution_count": 37,
     "metadata": {},
     "output_type": "execute_result"
    }
   ],
   "source": [
    "X_test.shape"
   ]
  },
  {
   "cell_type": "code",
   "execution_count": 38,
   "metadata": {},
   "outputs": [
    {
     "data": {
      "text/plain": [
       "array([1, 1, 2, 3, 2, 3, 1, 3, 3, 2, 2, 3, 3, 3, 3, 2, 3, 1, 1, 3, 3, 3,\n",
       "       1, 1, 3, 2, 1, 3, 1, 1, 1, 2, 2, 1, 3, 1, 3, 2, 1, 1, 1, 1, 1, 1,\n",
       "       1, 1, 1, 1, 1, 2, 2, 2, 1, 1, 1, 1, 1, 1, 3, 1, 3, 1, 2, 1, 1, 1,\n",
       "       1, 3, 1, 1, 3, 1, 1, 2, 1, 1, 1, 1, 2, 1, 1, 2, 2, 2, 2, 3, 2, 1,\n",
       "       1, 1, 2, 2, 3, 1, 1, 2, 1, 2, 3, 2, 1, 2, 1, 3, 1, 1, 3, 2, 1, 3,\n",
       "       1, 1, 2, 1, 1, 2, 3, 3, 1, 1, 3, 3, 2, 3, 3, 2, 3, 3, 1, 1, 2, 1,\n",
       "       2, 3, 3, 1, 3, 3, 1, 1, 1, 3, 1, 3, 1, 1, 2, 2, 2, 1, 1, 1, 3, 3,\n",
       "       1, 1, 3, 1, 1, 1, 2, 2, 3, 2, 1, 2, 2, 1, 3, 3, 1, 1, 3, 2, 3, 1,\n",
       "       1, 2, 1, 2, 2, 1, 2, 1, 1, 3, 3, 1, 2, 2, 2, 3, 2, 3, 1, 1, 1, 2,\n",
       "       3, 1, 1, 1, 1, 3, 1, 3, 1, 1, 1, 1, 3, 2, 3, 1, 2, 3, 1, 2, 2, 2,\n",
       "       1, 3, 2, 1, 1, 2, 1, 3, 2, 1, 1, 2, 3, 3, 1, 2, 2, 1, 3, 1, 1, 3,\n",
       "       2, 1, 3, 1, 3, 1, 3, 2, 3, 2, 3, 3, 1, 1, 1, 1, 3, 1, 1, 2, 2, 3,\n",
       "       2, 3, 2, 1, 1, 2, 1, 1, 1, 1, 3, 1, 2, 3, 3, 2, 3, 1, 1, 1, 3, 3,\n",
       "       2, 3, 1, 3, 1, 2, 2, 3, 3, 3, 1, 1, 3, 1, 3, 3, 1, 2, 1, 1, 2, 2,\n",
       "       3, 3, 2, 1, 2, 3, 2, 2, 3, 2, 2, 1, 1, 3, 3, 1, 2, 2, 1, 3, 3, 3,\n",
       "       1, 3, 1, 2, 2, 3, 3, 1, 1, 3, 2, 1, 1, 3, 1, 1, 1, 3, 2, 3, 2, 1,\n",
       "       3, 2, 3, 2, 3, 1, 1, 1, 2, 3, 3, 3, 1, 3, 2, 2, 3, 3, 3, 3, 2, 1,\n",
       "       3, 2, 2, 3, 3, 2, 3, 3, 2, 1, 1, 3, 3, 1, 2, 1, 3, 2, 3, 1, 2, 1,\n",
       "       3, 3, 3, 3, 1, 2, 3, 2, 2, 2, 2, 3, 2, 2, 2, 3, 3, 1, 3, 3, 1, 1,\n",
       "       3, 3, 3, 1, 1, 3, 3, 2, 3, 1, 3, 2, 1, 3, 2, 1, 3, 1, 3, 1, 2, 3,\n",
       "       1, 2])"
      ]
     },
     "execution_count": 38,
     "metadata": {},
     "output_type": "execute_result"
    }
   ],
   "source": [
    "y_test"
   ]
  },
  {
   "cell_type": "code",
   "execution_count": 39,
   "metadata": {},
   "outputs": [
    {
     "data": {
      "text/plain": [
       "(442,)"
      ]
     },
     "execution_count": 39,
     "metadata": {},
     "output_type": "execute_result"
    }
   ],
   "source": [
    "y_test.shape"
   ]
  },
  {
   "cell_type": "markdown",
   "metadata": {},
   "source": [
    "# Model Fitting"
   ]
  },
  {
   "cell_type": "markdown",
   "metadata": {},
   "source": [
    "### Decision Tree classifier"
   ]
  },
  {
   "cell_type": "code",
   "execution_count": null,
   "metadata": {},
   "outputs": [],
   "source": [
    "from sklearn.tree import DecisionTreeClassifier\n"
   ]
  },
  {
   "cell_type": "markdown",
   "metadata": {},
   "source": [
    "#### Model with fixed parameters"
   ]
  },
  {
   "cell_type": "code",
   "execution_count": 253,
   "metadata": {},
   "outputs": [],
   "source": [
    "\n",
    "tree_clf = DecisionTreeClassifier(criterion='gini', min_samples_split= 10, max_depth=5,\n",
    "            max_features=8, min_samples_leaf=4,\n",
    "            random_state=10, splitter='best')\n",
    "\n"
   ]
  },
  {
   "cell_type": "code",
   "execution_count": 254,
   "metadata": {},
   "outputs": [],
   "source": [
    "\n",
    "\n",
    "\n",
    "tree_fit = tree_clf.fit(X_train, y_train)\n",
    "\n"
   ]
  },
  {
   "cell_type": "code",
   "execution_count": 255,
   "metadata": {},
   "outputs": [],
   "source": [
    "# Score the predicted output from model on the test data against \n",
    "\n",
    "y_pred = tree_fit.predict(X_test)\n"
   ]
  },
  {
   "cell_type": "code",
   "execution_count": 256,
   "metadata": {},
   "outputs": [],
   "source": [
    "#y_pred"
   ]
  },
  {
   "cell_type": "code",
   "execution_count": 257,
   "metadata": {
    "scrolled": false
   },
   "outputs": [
    {
     "name": "stdout",
     "output_type": "stream",
     "text": [
      "('Accuracy is ', 42.76018099547511)\n"
     ]
    }
   ],
   "source": [
    "from sklearn.metrics import accuracy_score\n",
    "\n",
    "print (\"Accuracy is \", accuracy_score(y_test,y_pred)*100)"
   ]
  },
  {
   "cell_type": "code",
   "execution_count": 258,
   "metadata": {},
   "outputs": [
    {
     "data": {
      "text/html": [
       "<div>\n",
       "<style scoped>\n",
       "    .dataframe tbody tr th:only-of-type {\n",
       "        vertical-align: middle;\n",
       "    }\n",
       "\n",
       "    .dataframe tbody tr th {\n",
       "        vertical-align: top;\n",
       "    }\n",
       "\n",
       "    .dataframe thead th {\n",
       "        text-align: right;\n",
       "    }\n",
       "</style>\n",
       "<table border=\"1\" class=\"dataframe\">\n",
       "  <thead>\n",
       "    <tr style=\"text-align: right;\">\n",
       "      <th>Predicted Contraceptive Choice</th>\n",
       "      <th>1</th>\n",
       "      <th>2</th>\n",
       "      <th>3</th>\n",
       "    </tr>\n",
       "    <tr>\n",
       "      <th>Actual Contraceptive Choice</th>\n",
       "      <th></th>\n",
       "      <th></th>\n",
       "      <th></th>\n",
       "    </tr>\n",
       "  </thead>\n",
       "  <tbody>\n",
       "    <tr>\n",
       "      <th>1</th>\n",
       "      <td>115</td>\n",
       "      <td>1</td>\n",
       "      <td>65</td>\n",
       "    </tr>\n",
       "    <tr>\n",
       "      <th>2</th>\n",
       "      <td>51</td>\n",
       "      <td>0</td>\n",
       "      <td>66</td>\n",
       "    </tr>\n",
       "    <tr>\n",
       "      <th>3</th>\n",
       "      <td>70</td>\n",
       "      <td>0</td>\n",
       "      <td>74</td>\n",
       "    </tr>\n",
       "  </tbody>\n",
       "</table>\n",
       "</div>"
      ],
      "text/plain": [
       "Predicted Contraceptive Choice    1  2   3\n",
       "Actual Contraceptive Choice               \n",
       "1                               115  1  65\n",
       "2                                51  0  66\n",
       "3                                70  0  74"
      ]
     },
     "execution_count": 258,
     "metadata": {},
     "output_type": "execute_result"
    }
   ],
   "source": [
    "pd.crosstab(y_test, y_pred, rownames=['Actual Contraceptive Choice'], colnames=['Predicted Contraceptive Choice'])"
   ]
  },
  {
   "cell_type": "code",
   "execution_count": 259,
   "metadata": {},
   "outputs": [],
   "source": [
    "error_rate_tree = (y_pred != y_test).mean()\n"
   ]
  },
  {
   "cell_type": "code",
   "execution_count": 260,
   "metadata": {},
   "outputs": [
    {
     "data": {
      "text/plain": [
       "0.5723981900452488"
      ]
     },
     "execution_count": 260,
     "metadata": {},
     "output_type": "execute_result"
    }
   ],
   "source": [
    "error_rate_tree"
   ]
  },
  {
   "cell_type": "code",
   "execution_count": 261,
   "metadata": {},
   "outputs": [
    {
     "name": "stdout",
     "output_type": "stream",
     "text": [
      "[[115   1  65]\n",
      " [ 51   0  66]\n",
      " [ 70   0  74]]\n"
     ]
    }
   ],
   "source": [
    "from sklearn.metrics import confusion_matrix\n",
    "cm = confusion_matrix(y_test, y_pred)\n",
    "print(cm)"
   ]
  },
  {
   "cell_type": "code",
   "execution_count": 343,
   "metadata": {},
   "outputs": [
    {
     "name": "stdout",
     "output_type": "stream",
     "text": [
      "             precision    recall  f1-score   support\n",
      "\n",
      "          1       0.49      0.64      0.55       181\n",
      "          2       0.00      0.00      0.00       117\n",
      "          3       0.36      0.51      0.42       144\n",
      "\n",
      "avg / total       0.32      0.43      0.36       442\n",
      "\n"
     ]
    }
   ],
   "source": [
    "from sklearn.metrics import classification_report\n",
    "print(classification_report(y_test, y_pred))\n",
    "\n"
   ]
  },
  {
   "cell_type": "markdown",
   "metadata": {},
   "source": [
    "#### Grid Search for Decision tree"
   ]
  },
  {
   "cell_type": "code",
   "execution_count": 283,
   "metadata": {},
   "outputs": [],
   "source": [
    "from sklearn.model_selection import cross_val_score\n",
    "\n",
    "from sklearn.grid_search import GridSearchCV\n"
   ]
  },
  {
   "cell_type": "code",
   "execution_count": null,
   "metadata": {},
   "outputs": [],
   "source": [
    "\n",
    "max_depth = list(range(1,20))\n",
    "#max_features = list(range(1,20))\n",
    "#min_samples_split = list(range(2,100))\n",
    "min_samples_leaf = list(range(1,20))\n",
    "\n",
    "\n",
    "param_grid = dict( \n",
    "                    max_depth = max_depth, \n",
    "                    min_samples_leaf = min_samples_leaf, \n",
    "                    #min_samples_split = min_samples_split\n",
    ")\n",
    "\n",
    "\n",
    "grid = GridSearchCV(tree_clf, param_grid, cv=10, scoring='accuracy')\n",
    "\n",
    "\n"
   ]
  },
  {
   "cell_type": "code",
   "execution_count": null,
   "metadata": {},
   "outputs": [],
   "source": [
    "grid.fit(cmc_features, cmc_target)\n",
    "\n",
    "#grid_fit = grid.fit(X_train, y_train)"
   ]
  },
  {
   "cell_type": "code",
   "execution_count": 425,
   "metadata": {},
   "outputs": [
    {
     "name": "stdout",
     "output_type": "stream",
     "text": [
      "{'n_neighbors': 15, 'weights': 'uniform'}\n",
      "KNeighborsClassifier(algorithm='auto', leaf_size=30, metric='minkowski',\n",
      "           metric_params=None, n_jobs=1, n_neighbors=15, p=2,\n",
      "           weights='uniform')\n"
     ]
    }
   ],
   "source": [
    "print(grid.best_params_)\n",
    "\n",
    "print(grid.best_estimator_)"
   ]
  },
  {
   "cell_type": "code",
   "execution_count": 277,
   "metadata": {},
   "outputs": [],
   "source": [
    "grid_tree_clf = grid.best_estimator_\n"
   ]
  },
  {
   "cell_type": "code",
   "execution_count": 280,
   "metadata": {},
   "outputs": [
    {
     "data": {
      "text/plain": [
       "DecisionTreeClassifier(class_weight=None, criterion='gini', max_depth=5,\n",
       "            max_features=None, max_leaf_nodes=None,\n",
       "            min_impurity_decrease=0.0, min_impurity_split=None,\n",
       "            min_samples_leaf=19, min_samples_split=2,\n",
       "            min_weight_fraction_leaf=0.0, presort=False, random_state=None,\n",
       "            splitter='best')"
      ]
     },
     "execution_count": 280,
     "metadata": {},
     "output_type": "execute_result"
    }
   ],
   "source": [
    "grid_tree_clf"
   ]
  },
  {
   "cell_type": "code",
   "execution_count": null,
   "metadata": {},
   "outputs": [],
   "source": [
    "gridtree_y_pred = grid_tree_clf.predict(X_test)\n"
   ]
  },
  {
   "cell_type": "code",
   "execution_count": 298,
   "metadata": {},
   "outputs": [
    {
     "data": {
      "text/plain": [
       "58.82352941176471"
      ]
     },
     "execution_count": 298,
     "metadata": {},
     "output_type": "execute_result"
    }
   ],
   "source": [
    "accuracy_score(gridtree_y_pred, y_test)*100"
   ]
  },
  {
   "cell_type": "code",
   "execution_count": 282,
   "metadata": {},
   "outputs": [
    {
     "name": "stdout",
     "output_type": "stream",
     "text": [
      "             precision    recall  f1-score   support\n",
      "\n",
      "          1       0.61      0.75      0.67       181\n",
      "          2       0.59      0.44      0.51       117\n",
      "          3       0.55      0.51      0.53       144\n",
      "\n",
      "avg / total       0.59      0.59      0.58       442\n",
      "\n"
     ]
    }
   ],
   "source": [
    "from sklearn.metrics import classification_report\n",
    "print(classification_report(y_test, gridtree_y_pred))\n"
   ]
  },
  {
   "cell_type": "code",
   "execution_count": 287,
   "metadata": {},
   "outputs": [],
   "source": [
    "error_rate_gridtree = (gridtree_y_pred != y_test).mean()\n"
   ]
  },
  {
   "cell_type": "code",
   "execution_count": 339,
   "metadata": {},
   "outputs": [
    {
     "data": {
      "text/plain": [
       "0.4117647058823529"
      ]
     },
     "execution_count": 339,
     "metadata": {},
     "output_type": "execute_result"
    }
   ],
   "source": [
    "error_rate_gridtree"
   ]
  },
  {
   "cell_type": "code",
   "execution_count": 340,
   "metadata": {},
   "outputs": [
    {
     "name": "stdout",
     "output_type": "stream",
     "text": [
      "('Accuracy is ', 58.82352941176471)\n"
     ]
    }
   ],
   "source": [
    "print (\"Accuracy is \", accuracy_score(y_test,gridtree_y_pred)*100)"
   ]
  },
  {
   "cell_type": "code",
   "execution_count": 301,
   "metadata": {},
   "outputs": [
    {
     "name": "stdout",
     "output_type": "stream",
     "text": [
      "[[135  10  36]\n",
      " [ 41  52  24]\n",
      " [ 45  26  73]]\n"
     ]
    }
   ],
   "source": [
    "cm_gridtree = confusion_matrix(y_test, gridtree_y_pred)\n",
    "print(cm_gridtree)"
   ]
  },
  {
   "cell_type": "code",
   "execution_count": 302,
   "metadata": {},
   "outputs": [
    {
     "data": {
      "text/html": [
       "<div>\n",
       "<style scoped>\n",
       "    .dataframe tbody tr th:only-of-type {\n",
       "        vertical-align: middle;\n",
       "    }\n",
       "\n",
       "    .dataframe tbody tr th {\n",
       "        vertical-align: top;\n",
       "    }\n",
       "\n",
       "    .dataframe thead th {\n",
       "        text-align: right;\n",
       "    }\n",
       "</style>\n",
       "<table border=\"1\" class=\"dataframe\">\n",
       "  <thead>\n",
       "    <tr style=\"text-align: right;\">\n",
       "      <th>Predicted Contraceptive Choice</th>\n",
       "      <th>1</th>\n",
       "      <th>2</th>\n",
       "      <th>3</th>\n",
       "    </tr>\n",
       "    <tr>\n",
       "      <th>Actual Contraceptive Choice</th>\n",
       "      <th></th>\n",
       "      <th></th>\n",
       "      <th></th>\n",
       "    </tr>\n",
       "  </thead>\n",
       "  <tbody>\n",
       "    <tr>\n",
       "      <th>1</th>\n",
       "      <td>135</td>\n",
       "      <td>10</td>\n",
       "      <td>36</td>\n",
       "    </tr>\n",
       "    <tr>\n",
       "      <th>2</th>\n",
       "      <td>41</td>\n",
       "      <td>52</td>\n",
       "      <td>24</td>\n",
       "    </tr>\n",
       "    <tr>\n",
       "      <th>3</th>\n",
       "      <td>45</td>\n",
       "      <td>26</td>\n",
       "      <td>73</td>\n",
       "    </tr>\n",
       "  </tbody>\n",
       "</table>\n",
       "</div>"
      ],
      "text/plain": [
       "Predicted Contraceptive Choice    1   2   3\n",
       "Actual Contraceptive Choice                \n",
       "1                               135  10  36\n",
       "2                                41  52  24\n",
       "3                                45  26  73"
      ]
     },
     "execution_count": 302,
     "metadata": {},
     "output_type": "execute_result"
    }
   ],
   "source": [
    "pd.crosstab(y_test, gridtree_y_pred, rownames=['Actual Contraceptive Choice'], colnames=['Predicted Contraceptive Choice'])"
   ]
  },
  {
   "cell_type": "code",
   "execution_count": 278,
   "metadata": {},
   "outputs": [],
   "source": [
    "from sklearn import tree\n",
    "from sklearn.tree import export_graphviz\n",
    "import graphviz\n",
    "\n",
    "#tree.export_graphviz(tree_clf, out_file='/Users/Vidya/Documents/Practical_Data_Science/Assignment_2/tree.dot', feature_names=cmc_features.feature_names, class_names = cmc_target.target_names)\n",
    "tree.export_graphviz(grid_tree_clf, \n",
    "                     out_file='/Users/Vidya/Documents/Practical_Data_Science/Assignment_2/tree.dot',\n",
    "                     class_names = ['No Contraception','Short-Term Contraception','Long-Term Contraception'],\n",
    "                     feature_names=feature_names)\n",
    "                   \n",
    "                    "
   ]
  },
  {
   "cell_type": "code",
   "execution_count": 279,
   "metadata": {},
   "outputs": [
    {
     "data": {
      "text/plain": [
       "0"
      ]
     },
     "execution_count": 279,
     "metadata": {},
     "output_type": "execute_result"
    }
   ],
   "source": [
    "from subprocess import call\n",
    "\n",
    "call(['dot', '-T', 'png', '/Users/Vidya/Documents/Practical_Data_Science/Assignment_2/tree.dot', '-o', 'tree.png'])"
   ]
  },
  {
   "cell_type": "markdown",
   "metadata": {},
   "source": [
    "## KNN classifier"
   ]
  },
  {
   "cell_type": "code",
   "execution_count": 40,
   "metadata": {},
   "outputs": [
    {
     "name": "stderr",
     "output_type": "stream",
     "text": [
      "/Users/Vidya/anaconda2/lib/python2.7/site-packages/sklearn/cross_validation.py:41: DeprecationWarning: This module was deprecated in version 0.18 in favor of the model_selection module into which all the refactored classes and functions are moved. Also note that the interface of the new CV iterators are different from that of this module. This module will be removed in 0.20.\n",
      "  \"This module will be removed in 0.20.\", DeprecationWarning)\n",
      "/Users/Vidya/anaconda2/lib/python2.7/site-packages/sklearn/grid_search.py:42: DeprecationWarning: This module was deprecated in version 0.18 in favor of the model_selection module into which all the refactored classes and functions are moved. This module will be removed in 0.20.\n",
      "  DeprecationWarning)\n"
     ]
    }
   ],
   "source": [
    "from sklearn.neighbors import KNeighborsClassifier\n",
    "from sklearn.cross_validation import cross_val_score\n",
    "from sklearn.metrics import confusion_matrix\n",
    "from sklearn.grid_search import GridSearchCV\n"
   ]
  },
  {
   "cell_type": "markdown",
   "metadata": {},
   "source": [
    "#### Grid Search for parameter tuning"
   ]
  },
  {
   "cell_type": "code",
   "execution_count": 90,
   "metadata": {},
   "outputs": [
    {
     "name": "stdout",
     "output_type": "stream",
     "text": [
      "{'n_neighbors': [1, 2, 3, 4, 5, 6, 7, 8, 9, 10, 11, 12, 13, 14, 15, 16, 17, 18, 19, 20, 21, 22, 23, 24, 25, 26, 27, 28, 29, 30, 31, 32, 33, 34, 35, 36, 37, 38, 39, 40, 41, 42, 43, 44, 45, 46, 47, 48, 49, 50, 51, 52, 53, 54, 55, 56, 57, 58, 59, 60, 61, 62, 63, 64, 65, 66, 67, 68, 69, 70, 71, 72, 73, 74, 75, 76, 77, 78, 79, 80, 81, 82, 83, 84, 85, 86, 87, 88, 89, 90, 91, 92, 93, 94, 95, 96, 97, 98, 99], 'weights': ['uniform', 'distance']}\n"
     ]
    }
   ],
   "source": [
    "k_range = list(range(1, 100))\n",
    "\n",
    "weight_options = [\"uniform\", \"distance\"]\n",
    "\n",
    "param_grid = dict(n_neighbors=k_range, weights= weight_options)\n",
    "print(param_grid)\n",
    "\n"
   ]
  },
  {
   "cell_type": "code",
   "execution_count": 91,
   "metadata": {},
   "outputs": [],
   "source": [
    "knn = KNeighborsClassifier(n_neighbors=k_range)\n"
   ]
  },
  {
   "cell_type": "code",
   "execution_count": 92,
   "metadata": {},
   "outputs": [],
   "source": [
    "grid = GridSearchCV(knn, param_grid, cv=10, scoring='accuracy')\n"
   ]
  },
  {
   "cell_type": "code",
   "execution_count": 108,
   "metadata": {},
   "outputs": [
    {
     "data": {
      "text/plain": [
       "GridSearchCV(cv=10, error_score='raise',\n",
       "       estimator=KNeighborsClassifier(algorithm='auto', leaf_size=30, metric='minkowski',\n",
       "           metric_params=None, n_jobs=1,\n",
       "           n_neighbors=[1, 2, 3, 4, 5, 6, 7, 8, 9, 10, 11, 12, 13, 14, 15, 16, 17, 18, 19, 20, 21, 22, 23, 24, 25, 26, 27, 28, 29, 30, 31, 32, 33, 34, 35, 36, 37, 38, 39, 40, 4... 84, 85, 86, 87, 88, 89, 90, 91, 92, 93, 94, 95, 96, 97, 98, 99],\n",
       "           p=2, weights='uniform'),\n",
       "       fit_params={}, iid=True, n_jobs=1,\n",
       "       param_grid={'n_neighbors': [1, 2, 3, 4, 5, 6, 7, 8, 9, 10, 11, 12, 13, 14, 15, 16, 17, 18, 19, 20, 21, 22, 23, 24, 25, 26, 27, 28, 29, 30, 31, 32, 33, 34, 35, 36, 37, 38, 39, 40, 41, 42, 43, 44, 45, 46, 47, 48, 49, 50, 51, 52, 53, 54, 55, 56, 57, 58, 59, 60, 61, 62, 63, 64, 65, 66, 67, 68, 69, 70, 71, 72, 73, 74, 75, 76, 77, 78, 79, 80, 81, 82, 83, 84, 85, 86, 87, 88, 89, 90, 91, 92, 93, 94, 95, 96, 97, 98, 99], 'weights': ['uniform', 'distance']},\n",
       "       pre_dispatch='2*n_jobs', refit=True, scoring='accuracy', verbose=0)"
      ]
     },
     "execution_count": 108,
     "metadata": {},
     "output_type": "execute_result"
    }
   ],
   "source": [
    "grid.fit(cmc_features, cmc_target)\n"
   ]
  },
  {
   "cell_type": "code",
   "execution_count": 94,
   "metadata": {},
   "outputs": [
    {
     "data": {
      "text/plain": [
       "[mean: 0.43720, std: 0.03618, params: {'n_neighbors': 1, 'weights': 'uniform'},\n",
       " mean: 0.43720, std: 0.03618, params: {'n_neighbors': 1, 'weights': 'distance'},\n",
       " mean: 0.45418, std: 0.02368, params: {'n_neighbors': 2, 'weights': 'uniform'},\n",
       " mean: 0.44535, std: 0.04197, params: {'n_neighbors': 2, 'weights': 'distance'},\n",
       " mean: 0.48948, std: 0.04006, params: {'n_neighbors': 3, 'weights': 'uniform'},\n",
       " mean: 0.47862, std: 0.04060, params: {'n_neighbors': 3, 'weights': 'distance'},\n",
       " mean: 0.48744, std: 0.03560, params: {'n_neighbors': 4, 'weights': 'uniform'},\n",
       " mean: 0.48744, std: 0.03232, params: {'n_neighbors': 4, 'weights': 'distance'},\n",
       " mean: 0.49423, std: 0.03212, params: {'n_neighbors': 5, 'weights': 'uniform'},\n",
       " mean: 0.49084, std: 0.03718, params: {'n_neighbors': 5, 'weights': 'distance'},\n",
       " mean: 0.50305, std: 0.03591, params: {'n_neighbors': 6, 'weights': 'uniform'},\n",
       " mean: 0.49151, std: 0.02737, params: {'n_neighbors': 6, 'weights': 'distance'},\n",
       " mean: 0.52071, std: 0.02972, params: {'n_neighbors': 7, 'weights': 'uniform'},\n",
       " mean: 0.49355, std: 0.03040, params: {'n_neighbors': 7, 'weights': 'distance'},\n",
       " mean: 0.51392, std: 0.03088, params: {'n_neighbors': 8, 'weights': 'uniform'},\n",
       " mean: 0.49355, std: 0.02369, params: {'n_neighbors': 8, 'weights': 'distance'},\n",
       " mean: 0.52342, std: 0.01753, params: {'n_neighbors': 9, 'weights': 'uniform'},\n",
       " mean: 0.50238, std: 0.01278, params: {'n_neighbors': 9, 'weights': 'distance'},\n",
       " mean: 0.51188, std: 0.02791, params: {'n_neighbors': 10, 'weights': 'uniform'},\n",
       " mean: 0.49898, std: 0.02134, params: {'n_neighbors': 10, 'weights': 'distance'},\n",
       " mean: 0.53293, std: 0.02846, params: {'n_neighbors': 11, 'weights': 'uniform'},\n",
       " mean: 0.51595, std: 0.02136, params: {'n_neighbors': 11, 'weights': 'distance'},\n",
       " mean: 0.53089, std: 0.03200, params: {'n_neighbors': 12, 'weights': 'uniform'},\n",
       " mean: 0.50984, std: 0.02329, params: {'n_neighbors': 12, 'weights': 'distance'},\n",
       " mean: 0.53564, std: 0.02973, params: {'n_neighbors': 13, 'weights': 'uniform'},\n",
       " mean: 0.50849, std: 0.02014, params: {'n_neighbors': 13, 'weights': 'distance'},\n",
       " mean: 0.52953, std: 0.02698, params: {'n_neighbors': 14, 'weights': 'uniform'},\n",
       " mean: 0.51663, std: 0.01647, params: {'n_neighbors': 14, 'weights': 'distance'},\n",
       " mean: 0.54311, std: 0.02761, params: {'n_neighbors': 15, 'weights': 'uniform'},\n",
       " mean: 0.52749, std: 0.02357, params: {'n_neighbors': 15, 'weights': 'distance'},\n",
       " mean: 0.53360, std: 0.01464, params: {'n_neighbors': 16, 'weights': 'uniform'},\n",
       " mean: 0.52478, std: 0.01958, params: {'n_neighbors': 16, 'weights': 'distance'},\n",
       " mean: 0.53632, std: 0.02034, params: {'n_neighbors': 17, 'weights': 'uniform'},\n",
       " mean: 0.52410, std: 0.01730, params: {'n_neighbors': 17, 'weights': 'distance'},\n",
       " mean: 0.53496, std: 0.02652, params: {'n_neighbors': 18, 'weights': 'uniform'},\n",
       " mean: 0.52410, std: 0.02125, params: {'n_neighbors': 18, 'weights': 'distance'},\n",
       " mean: 0.54039, std: 0.02770, params: {'n_neighbors': 19, 'weights': 'uniform'},\n",
       " mean: 0.52682, std: 0.02154, params: {'n_neighbors': 19, 'weights': 'distance'},\n",
       " mean: 0.54718, std: 0.02819, params: {'n_neighbors': 20, 'weights': 'uniform'},\n",
       " mean: 0.52138, std: 0.01921, params: {'n_neighbors': 20, 'weights': 'distance'},\n",
       " mean: 0.54379, std: 0.03398, params: {'n_neighbors': 21, 'weights': 'uniform'},\n",
       " mean: 0.53564, std: 0.02474, params: {'n_neighbors': 21, 'weights': 'distance'},\n",
       " mean: 0.54650, std: 0.03033, params: {'n_neighbors': 22, 'weights': 'uniform'},\n",
       " mean: 0.52546, std: 0.02174, params: {'n_neighbors': 22, 'weights': 'distance'},\n",
       " mean: 0.54854, std: 0.03534, params: {'n_neighbors': 23, 'weights': 'uniform'},\n",
       " mean: 0.53293, std: 0.02569, params: {'n_neighbors': 23, 'weights': 'distance'},\n",
       " mean: 0.54650, std: 0.02869, params: {'n_neighbors': 24, 'weights': 'uniform'},\n",
       " mean: 0.53360, std: 0.02426, params: {'n_neighbors': 24, 'weights': 'distance'},\n",
       " mean: 0.54854, std: 0.03600, params: {'n_neighbors': 25, 'weights': 'uniform'},\n",
       " mean: 0.53157, std: 0.03159, params: {'n_neighbors': 25, 'weights': 'distance'},\n",
       " mean: 0.54650, std: 0.04367, params: {'n_neighbors': 26, 'weights': 'uniform'},\n",
       " mean: 0.52614, std: 0.03553, params: {'n_neighbors': 26, 'weights': 'distance'},\n",
       " mean: 0.54311, std: 0.03433, params: {'n_neighbors': 27, 'weights': 'uniform'},\n",
       " mean: 0.53293, std: 0.02742, params: {'n_neighbors': 27, 'weights': 'distance'},\n",
       " mean: 0.54175, std: 0.03080, params: {'n_neighbors': 28, 'weights': 'uniform'},\n",
       " mean: 0.52749, std: 0.02586, params: {'n_neighbors': 28, 'weights': 'distance'},\n",
       " mean: 0.54311, std: 0.03240, params: {'n_neighbors': 29, 'weights': 'uniform'},\n",
       " mean: 0.52953, std: 0.02620, params: {'n_neighbors': 29, 'weights': 'distance'},\n",
       " mean: 0.54039, std: 0.02696, params: {'n_neighbors': 30, 'weights': 'uniform'},\n",
       " mean: 0.52885, std: 0.02127, params: {'n_neighbors': 30, 'weights': 'distance'},\n",
       " mean: 0.54582, std: 0.02665, params: {'n_neighbors': 31, 'weights': 'uniform'},\n",
       " mean: 0.53021, std: 0.02368, params: {'n_neighbors': 31, 'weights': 'distance'},\n",
       " mean: 0.54990, std: 0.03158, params: {'n_neighbors': 32, 'weights': 'uniform'},\n",
       " mean: 0.53632, std: 0.02414, params: {'n_neighbors': 32, 'weights': 'distance'},\n",
       " mean: 0.54718, std: 0.02982, params: {'n_neighbors': 33, 'weights': 'uniform'},\n",
       " mean: 0.53768, std: 0.02742, params: {'n_neighbors': 33, 'weights': 'distance'},\n",
       " mean: 0.54379, std: 0.03479, params: {'n_neighbors': 34, 'weights': 'uniform'},\n",
       " mean: 0.53428, std: 0.03126, params: {'n_neighbors': 34, 'weights': 'distance'},\n",
       " mean: 0.54786, std: 0.04463, params: {'n_neighbors': 35, 'weights': 'uniform'},\n",
       " mean: 0.53632, std: 0.03239, params: {'n_neighbors': 35, 'weights': 'distance'},\n",
       " mean: 0.54107, std: 0.03426, params: {'n_neighbors': 36, 'weights': 'uniform'},\n",
       " mean: 0.53496, std: 0.02757, params: {'n_neighbors': 36, 'weights': 'distance'},\n",
       " mean: 0.54379, std: 0.03284, params: {'n_neighbors': 37, 'weights': 'uniform'},\n",
       " mean: 0.52885, std: 0.02648, params: {'n_neighbors': 37, 'weights': 'distance'},\n",
       " mean: 0.53632, std: 0.03657, params: {'n_neighbors': 38, 'weights': 'uniform'},\n",
       " mean: 0.52682, std: 0.03527, params: {'n_neighbors': 38, 'weights': 'distance'},\n",
       " mean: 0.53293, std: 0.03611, params: {'n_neighbors': 39, 'weights': 'uniform'},\n",
       " mean: 0.52274, std: 0.02681, params: {'n_neighbors': 39, 'weights': 'distance'},\n",
       " mean: 0.53632, std: 0.03871, params: {'n_neighbors': 40, 'weights': 'uniform'},\n",
       " mean: 0.52274, std: 0.02566, params: {'n_neighbors': 40, 'weights': 'distance'},\n",
       " mean: 0.53564, std: 0.03031, params: {'n_neighbors': 41, 'weights': 'uniform'},\n",
       " mean: 0.52817, std: 0.02754, params: {'n_neighbors': 41, 'weights': 'distance'},\n",
       " mean: 0.54107, std: 0.03748, params: {'n_neighbors': 42, 'weights': 'uniform'},\n",
       " mean: 0.52478, std: 0.02959, params: {'n_neighbors': 42, 'weights': 'distance'},\n",
       " mean: 0.53293, std: 0.03263, params: {'n_neighbors': 43, 'weights': 'uniform'},\n",
       " mean: 0.53021, std: 0.03038, params: {'n_neighbors': 43, 'weights': 'distance'},\n",
       " mean: 0.53768, std: 0.03069, params: {'n_neighbors': 44, 'weights': 'uniform'},\n",
       " mean: 0.52749, std: 0.02991, params: {'n_neighbors': 44, 'weights': 'distance'},\n",
       " mean: 0.53293, std: 0.02737, params: {'n_neighbors': 45, 'weights': 'uniform'},\n",
       " mean: 0.52953, std: 0.02538, params: {'n_neighbors': 45, 'weights': 'distance'},\n",
       " mean: 0.53564, std: 0.03074, params: {'n_neighbors': 46, 'weights': 'uniform'},\n",
       " mean: 0.52274, std: 0.03015, params: {'n_neighbors': 46, 'weights': 'distance'},\n",
       " mean: 0.52817, std: 0.03106, params: {'n_neighbors': 47, 'weights': 'uniform'},\n",
       " mean: 0.52546, std: 0.02878, params: {'n_neighbors': 47, 'weights': 'distance'},\n",
       " mean: 0.53564, std: 0.02727, params: {'n_neighbors': 48, 'weights': 'uniform'},\n",
       " mean: 0.52682, std: 0.02795, params: {'n_neighbors': 48, 'weights': 'distance'},\n",
       " mean: 0.52749, std: 0.03349, params: {'n_neighbors': 49, 'weights': 'uniform'},\n",
       " mean: 0.53021, std: 0.03450, params: {'n_neighbors': 49, 'weights': 'distance'},\n",
       " mean: 0.53089, std: 0.02985, params: {'n_neighbors': 50, 'weights': 'uniform'},\n",
       " mean: 0.52817, std: 0.03409, params: {'n_neighbors': 50, 'weights': 'distance'},\n",
       " mean: 0.52953, std: 0.03560, params: {'n_neighbors': 51, 'weights': 'uniform'},\n",
       " mean: 0.52478, std: 0.03634, params: {'n_neighbors': 51, 'weights': 'distance'},\n",
       " mean: 0.53157, std: 0.02826, params: {'n_neighbors': 52, 'weights': 'uniform'},\n",
       " mean: 0.52749, std: 0.03250, params: {'n_neighbors': 52, 'weights': 'distance'},\n",
       " mean: 0.52953, std: 0.03399, params: {'n_neighbors': 53, 'weights': 'uniform'},\n",
       " mean: 0.52953, std: 0.03053, params: {'n_neighbors': 53, 'weights': 'distance'},\n",
       " mean: 0.53428, std: 0.03059, params: {'n_neighbors': 54, 'weights': 'uniform'},\n",
       " mean: 0.52410, std: 0.02720, params: {'n_neighbors': 54, 'weights': 'distance'},\n",
       " mean: 0.53428, std: 0.03190, params: {'n_neighbors': 55, 'weights': 'uniform'},\n",
       " mean: 0.52749, std: 0.03626, params: {'n_neighbors': 55, 'weights': 'distance'},\n",
       " mean: 0.54107, std: 0.03232, params: {'n_neighbors': 56, 'weights': 'uniform'},\n",
       " mean: 0.52817, std: 0.02862, params: {'n_neighbors': 56, 'weights': 'distance'},\n",
       " mean: 0.53904, std: 0.03308, params: {'n_neighbors': 57, 'weights': 'uniform'},\n",
       " mean: 0.53157, std: 0.03533, params: {'n_neighbors': 57, 'weights': 'distance'},\n",
       " mean: 0.53157, std: 0.03288, params: {'n_neighbors': 58, 'weights': 'uniform'},\n",
       " mean: 0.52342, std: 0.03395, params: {'n_neighbors': 58, 'weights': 'distance'},\n",
       " mean: 0.53428, std: 0.03818, params: {'n_neighbors': 59, 'weights': 'uniform'},\n",
       " mean: 0.52614, std: 0.04026, params: {'n_neighbors': 59, 'weights': 'distance'},\n",
       " mean: 0.52614, std: 0.03239, params: {'n_neighbors': 60, 'weights': 'uniform'},\n",
       " mean: 0.52274, std: 0.03260, params: {'n_neighbors': 60, 'weights': 'distance'},\n",
       " mean: 0.53564, std: 0.03125, params: {'n_neighbors': 61, 'weights': 'uniform'},\n",
       " mean: 0.52546, std: 0.03461, params: {'n_neighbors': 61, 'weights': 'distance'},\n",
       " mean: 0.52817, std: 0.03006, params: {'n_neighbors': 62, 'weights': 'uniform'},\n",
       " mean: 0.52410, std: 0.03451, params: {'n_neighbors': 62, 'weights': 'distance'},\n",
       " mean: 0.52342, std: 0.03438, params: {'n_neighbors': 63, 'weights': 'uniform'},\n",
       " mean: 0.52206, std: 0.03676, params: {'n_neighbors': 63, 'weights': 'distance'},\n",
       " mean: 0.52410, std: 0.03364, params: {'n_neighbors': 64, 'weights': 'uniform'},\n",
       " mean: 0.52342, std: 0.03660, params: {'n_neighbors': 64, 'weights': 'distance'},\n",
       " mean: 0.52546, std: 0.03490, params: {'n_neighbors': 65, 'weights': 'uniform'},\n",
       " mean: 0.52342, std: 0.03722, params: {'n_neighbors': 65, 'weights': 'distance'},\n",
       " mean: 0.52138, std: 0.03293, params: {'n_neighbors': 66, 'weights': 'uniform'},\n",
       " mean: 0.52138, std: 0.03853, params: {'n_neighbors': 66, 'weights': 'distance'},\n",
       " mean: 0.52885, std: 0.03450, params: {'n_neighbors': 67, 'weights': 'uniform'},\n",
       " mean: 0.52749, std: 0.03714, params: {'n_neighbors': 67, 'weights': 'distance'},\n",
       " mean: 0.53089, std: 0.03385, params: {'n_neighbors': 68, 'weights': 'uniform'},\n",
       " mean: 0.52749, std: 0.03886, params: {'n_neighbors': 68, 'weights': 'distance'},\n",
       " mean: 0.52749, std: 0.02822, params: {'n_neighbors': 69, 'weights': 'uniform'},\n",
       " mean: 0.52410, std: 0.03877, params: {'n_neighbors': 69, 'weights': 'distance'},\n",
       " mean: 0.52682, std: 0.02809, params: {'n_neighbors': 70, 'weights': 'uniform'},\n",
       " mean: 0.52546, std: 0.03597, params: {'n_neighbors': 70, 'weights': 'distance'},\n",
       " mean: 0.52546, std: 0.03044, params: {'n_neighbors': 71, 'weights': 'uniform'},\n",
       " mean: 0.52478, std: 0.03580, params: {'n_neighbors': 71, 'weights': 'distance'},\n",
       " mean: 0.52546, std: 0.03132, params: {'n_neighbors': 72, 'weights': 'uniform'},\n",
       " mean: 0.52342, std: 0.03683, params: {'n_neighbors': 72, 'weights': 'distance'},\n",
       " mean: 0.52817, std: 0.03447, params: {'n_neighbors': 73, 'weights': 'uniform'},\n",
       " mean: 0.52817, std: 0.03460, params: {'n_neighbors': 73, 'weights': 'distance'},\n",
       " mean: 0.53428, std: 0.03138, params: {'n_neighbors': 74, 'weights': 'uniform'},\n",
       " mean: 0.52953, std: 0.03408, params: {'n_neighbors': 74, 'weights': 'distance'},\n",
       " mean: 0.53089, std: 0.03108, params: {'n_neighbors': 75, 'weights': 'uniform'},\n",
       " mean: 0.52817, std: 0.03292, params: {'n_neighbors': 75, 'weights': 'distance'},\n",
       " mean: 0.52817, std: 0.03070, params: {'n_neighbors': 76, 'weights': 'uniform'},\n",
       " mean: 0.52682, std: 0.03609, params: {'n_neighbors': 76, 'weights': 'distance'},\n",
       " mean: 0.53021, std: 0.02941, params: {'n_neighbors': 77, 'weights': 'uniform'},\n",
       " mean: 0.52410, std: 0.03171, params: {'n_neighbors': 77, 'weights': 'distance'},\n",
       " mean: 0.53293, std: 0.02802, params: {'n_neighbors': 78, 'weights': 'uniform'},\n",
       " mean: 0.52953, std: 0.03393, params: {'n_neighbors': 78, 'weights': 'distance'},\n",
       " mean: 0.53021, std: 0.02394, params: {'n_neighbors': 79, 'weights': 'uniform'},\n",
       " mean: 0.52682, std: 0.03242, params: {'n_neighbors': 79, 'weights': 'distance'},\n",
       " mean: 0.53632, std: 0.02719, params: {'n_neighbors': 80, 'weights': 'uniform'},\n",
       " mean: 0.53021, std: 0.03236, params: {'n_neighbors': 80, 'weights': 'distance'},\n",
       " mean: 0.52885, std: 0.02427, params: {'n_neighbors': 81, 'weights': 'uniform'},\n",
       " mean: 0.52749, std: 0.02891, params: {'n_neighbors': 81, 'weights': 'distance'},\n",
       " mean: 0.53496, std: 0.02562, params: {'n_neighbors': 82, 'weights': 'uniform'},\n",
       " mean: 0.53293, std: 0.03214, params: {'n_neighbors': 82, 'weights': 'distance'},\n",
       " mean: 0.53089, std: 0.02986, params: {'n_neighbors': 83, 'weights': 'uniform'},\n",
       " mean: 0.52614, std: 0.03140, params: {'n_neighbors': 83, 'weights': 'distance'},\n",
       " mean: 0.53157, std: 0.03025, params: {'n_neighbors': 84, 'weights': 'uniform'},\n",
       " mean: 0.52546, std: 0.02972, params: {'n_neighbors': 84, 'weights': 'distance'},\n",
       " mean: 0.53632, std: 0.02324, params: {'n_neighbors': 85, 'weights': 'uniform'},\n",
       " mean: 0.52817, std: 0.02619, params: {'n_neighbors': 85, 'weights': 'distance'},\n",
       " mean: 0.53496, std: 0.03000, params: {'n_neighbors': 86, 'weights': 'uniform'},\n",
       " mean: 0.52817, std: 0.03037, params: {'n_neighbors': 86, 'weights': 'distance'},\n",
       " mean: 0.53971, std: 0.02375, params: {'n_neighbors': 87, 'weights': 'uniform'},\n",
       " mean: 0.53157, std: 0.03013, params: {'n_neighbors': 87, 'weights': 'distance'},\n",
       " mean: 0.53428, std: 0.02720, params: {'n_neighbors': 88, 'weights': 'uniform'},\n",
       " mean: 0.52478, std: 0.03277, params: {'n_neighbors': 88, 'weights': 'distance'},\n",
       " mean: 0.53157, std: 0.03186, params: {'n_neighbors': 89, 'weights': 'uniform'},\n",
       " mean: 0.52682, std: 0.03301, params: {'n_neighbors': 89, 'weights': 'distance'},\n",
       " mean: 0.52749, std: 0.02570, params: {'n_neighbors': 90, 'weights': 'uniform'},\n",
       " mean: 0.52342, std: 0.03172, params: {'n_neighbors': 90, 'weights': 'distance'},\n",
       " mean: 0.53360, std: 0.03359, params: {'n_neighbors': 91, 'weights': 'uniform'},\n",
       " mean: 0.52546, std: 0.03345, params: {'n_neighbors': 91, 'weights': 'distance'},\n",
       " mean: 0.52953, std: 0.02818, params: {'n_neighbors': 92, 'weights': 'uniform'},\n",
       " mean: 0.52546, std: 0.03625, params: {'n_neighbors': 92, 'weights': 'distance'},\n",
       " mean: 0.53496, std: 0.02325, params: {'n_neighbors': 93, 'weights': 'uniform'},\n",
       " mean: 0.52885, std: 0.03641, params: {'n_neighbors': 93, 'weights': 'distance'},\n",
       " mean: 0.53564, std: 0.02611, params: {'n_neighbors': 94, 'weights': 'uniform'},\n",
       " mean: 0.52953, std: 0.03205, params: {'n_neighbors': 94, 'weights': 'distance'},\n",
       " mean: 0.53428, std: 0.02838, params: {'n_neighbors': 95, 'weights': 'uniform'},\n",
       " mean: 0.53021, std: 0.03402, params: {'n_neighbors': 95, 'weights': 'distance'},\n",
       " mean: 0.53496, std: 0.02637, params: {'n_neighbors': 96, 'weights': 'uniform'},\n",
       " mean: 0.53360, std: 0.03037, params: {'n_neighbors': 96, 'weights': 'distance'},\n",
       " mean: 0.53021, std: 0.03139, params: {'n_neighbors': 97, 'weights': 'uniform'},\n",
       " mean: 0.53089, std: 0.03321, params: {'n_neighbors': 97, 'weights': 'distance'},\n",
       " mean: 0.53021, std: 0.02404, params: {'n_neighbors': 98, 'weights': 'uniform'},\n",
       " mean: 0.53157, std: 0.02896, params: {'n_neighbors': 98, 'weights': 'distance'},\n",
       " mean: 0.53089, std: 0.02685, params: {'n_neighbors': 99, 'weights': 'uniform'},\n",
       " mean: 0.52817, std: 0.03337, params: {'n_neighbors': 99, 'weights': 'distance'}]"
      ]
     },
     "execution_count": 94,
     "metadata": {},
     "output_type": "execute_result"
    }
   ],
   "source": [
    "grid.grid_scores_"
   ]
  },
  {
   "cell_type": "code",
   "execution_count": 97,
   "metadata": {},
   "outputs": [
    {
     "name": "stdout",
     "output_type": "stream",
     "text": [
      "[0.43720298710115413, 0.43720298710115413, 0.45417515274949083, 0.4453496266123557, 0.4894772572980312, 0.4786150712830957, 0.4874405974202308, 0.4874405974202308, 0.4942294636795655, 0.4908350305498982, 0.5030549898167006, 0.49151391717583165, 0.5207060420909708, 0.49355057705363203, 0.5139171758316361, 0.49355057705363203, 0.5234215885947047, 0.5023761031907671, 0.5118805159538357, 0.4989816700610998, 0.5329260013577732, 0.5159538357094365, 0.5308893414799728, 0.5098438560760353, 0.5356415478615071, 0.5084860828241684, 0.5295315682281059, 0.5166327223353699, 0.5431093007467753, 0.5274949083503055, 0.5336048879837068, 0.5247793618465716, 0.5363204344874406, 0.5241004752206382, 0.5349626612355737, 0.5241004752206382, 0.5403937542430414, 0.526816021724372, 0.5471826205023761, 0.5213849287169042, 0.5437881873727087, 0.5356415478615071, 0.5465037338764427, 0.5254582484725051, 0.548540393754243, 0.5329260013577732, 0.5465037338764427, 0.5336048879837068, 0.548540393754243, 0.5315682281059063, 0.5465037338764427, 0.5261371350984385, 0.5431093007467753, 0.5329260013577732, 0.5417515274949084, 0.5274949083503055, 0.5431093007467753, 0.5295315682281059, 0.5403937542430414, 0.5288526816021725, 0.5458248472505092, 0.5302104548540394, 0.5498981670061099, 0.5363204344874406, 0.5471826205023761, 0.5376782077393075, 0.5437881873727087, 0.5342837746096402, 0.5478615071283096, 0.5363204344874406, 0.5410726408689749, 0.5349626612355737, 0.5437881873727087, 0.5288526816021725, 0.5363204344874406, 0.526816021724372, 0.5329260013577732, 0.5227427019687713, 0.5363204344874406, 0.5227427019687713, 0.5356415478615071, 0.528173794976239, 0.5410726408689749, 0.5247793618465716, 0.5329260013577732, 0.5302104548540394, 0.5376782077393075, 0.5274949083503055, 0.5329260013577732, 0.5295315682281059, 0.5356415478615071, 0.5227427019687713, 0.528173794976239, 0.5254582484725051, 0.5356415478615071, 0.526816021724372, 0.5274949083503055, 0.5302104548540394, 0.5308893414799728, 0.528173794976239, 0.5295315682281059, 0.5247793618465716, 0.5315682281059063, 0.5274949083503055, 0.5295315682281059, 0.5295315682281059, 0.5342837746096402, 0.5241004752206382, 0.5342837746096402, 0.5274949083503055, 0.5410726408689749, 0.528173794976239, 0.5390359809911744, 0.5315682281059063, 0.5315682281059063, 0.5234215885947047, 0.5342837746096402, 0.5261371350984385, 0.5261371350984385, 0.5227427019687713, 0.5356415478615071, 0.5254582484725051, 0.528173794976239, 0.5241004752206382, 0.5234215885947047, 0.5220638153428377, 0.5241004752206382, 0.5234215885947047, 0.5254582484725051, 0.5234215885947047, 0.5213849287169042, 0.5213849287169042, 0.5288526816021725, 0.5274949083503055, 0.5308893414799728, 0.5274949083503055, 0.5274949083503055, 0.5241004752206382, 0.526816021724372, 0.5254582484725051, 0.5254582484725051, 0.5247793618465716, 0.5254582484725051, 0.5234215885947047, 0.528173794976239, 0.528173794976239, 0.5342837746096402, 0.5295315682281059, 0.5308893414799728, 0.528173794976239, 0.528173794976239, 0.526816021724372, 0.5302104548540394, 0.5241004752206382, 0.5329260013577732, 0.5295315682281059, 0.5302104548540394, 0.526816021724372, 0.5363204344874406, 0.5302104548540394, 0.5288526816021725, 0.5274949083503055, 0.5349626612355737, 0.5329260013577732, 0.5308893414799728, 0.5261371350984385, 0.5315682281059063, 0.5254582484725051, 0.5363204344874406, 0.528173794976239, 0.5349626612355737, 0.528173794976239, 0.539714867617108, 0.5315682281059063, 0.5342837746096402, 0.5247793618465716, 0.5315682281059063, 0.526816021724372, 0.5274949083503055, 0.5234215885947047, 0.5336048879837068, 0.5254582484725051, 0.5295315682281059, 0.5254582484725051, 0.5349626612355737, 0.5288526816021725, 0.5356415478615071, 0.5295315682281059, 0.5342837746096402, 0.5302104548540394, 0.5349626612355737, 0.5336048879837068, 0.5302104548540394, 0.5308893414799728, 0.5302104548540394, 0.5315682281059063, 0.5308893414799728, 0.528173794976239]\n"
     ]
    }
   ],
   "source": [
    "grid_mean_scores = [result.mean_validation_score for result in grid.grid_scores_]\n",
    "print(grid_mean_scores)\n"
   ]
  },
  {
   "cell_type": "code",
   "execution_count": 98,
   "metadata": {},
   "outputs": [
    {
     "name": "stdout",
     "output_type": "stream",
     "text": [
      "0.549898167006\n",
      "{'n_neighbors': 32, 'weights': 'uniform'}\n",
      "KNeighborsClassifier(algorithm='auto', leaf_size=30, metric='minkowski',\n",
      "           metric_params=None, n_jobs=1, n_neighbors=32, p=2,\n",
      "           weights='uniform')\n"
     ]
    }
   ],
   "source": [
    "print(grid.best_score_)\n",
    "print(grid.best_params_)\n",
    "print(grid.best_estimator_)"
   ]
  },
  {
   "cell_type": "code",
   "execution_count": 99,
   "metadata": {},
   "outputs": [
    {
     "data": {
      "text/plain": [
       "GridSearchCV(cv=10, error_score='raise',\n",
       "       estimator=KNeighborsClassifier(algorithm='auto', leaf_size=30, metric='minkowski',\n",
       "           metric_params=None, n_jobs=1,\n",
       "           n_neighbors=[1, 2, 3, 4, 5, 6, 7, 8, 9, 10, 11, 12, 13, 14, 15, 16, 17, 18, 19, 20, 21, 22, 23, 24, 25, 26, 27, 28, 29, 30, 31, 32, 33, 34, 35, 36, 37, 38, 39, 40, 4... 84, 85, 86, 87, 88, 89, 90, 91, 92, 93, 94, 95, 96, 97, 98, 99],\n",
       "           p=2, weights='uniform'),\n",
       "       fit_params={}, iid=True, n_jobs=1,\n",
       "       param_grid={'n_neighbors': [1, 2, 3, 4, 5, 6, 7, 8, 9, 10, 11, 12, 13, 14, 15, 16, 17, 18, 19, 20, 21, 22, 23, 24, 25, 26, 27, 28, 29, 30, 31, 32, 33, 34, 35, 36, 37, 38, 39, 40, 41, 42, 43, 44, 45, 46, 47, 48, 49, 50, 51, 52, 53, 54, 55, 56, 57, 58, 59, 60, 61, 62, 63, 64, 65, 66, 67, 68, 69, 70, 71, 72, 73, 74, 75, 76, 77, 78, 79, 80, 81, 82, 83, 84, 85, 86, 87, 88, 89, 90, 91, 92, 93, 94, 95, 96, 97, 98, 99], 'weights': ['uniform', 'distance']},\n",
       "       pre_dispatch='2*n_jobs', refit=True, scoring='accuracy', verbose=0)"
      ]
     },
     "execution_count": 99,
     "metadata": {},
     "output_type": "execute_result"
    }
   ],
   "source": [
    "grid = GridSearchCV(knn, param_grid, cv=10, scoring='accuracy')\n",
    "grid.fit(cmc_features, cmc_target)"
   ]
  },
  {
   "cell_type": "code",
   "execution_count": 100,
   "metadata": {},
   "outputs": [
    {
     "data": {
      "text/plain": [
       "[mean: 0.43720, std: 0.03618, params: {'n_neighbors': 1, 'weights': 'uniform'},\n",
       " mean: 0.43720, std: 0.03618, params: {'n_neighbors': 1, 'weights': 'distance'},\n",
       " mean: 0.45418, std: 0.02368, params: {'n_neighbors': 2, 'weights': 'uniform'},\n",
       " mean: 0.44535, std: 0.04197, params: {'n_neighbors': 2, 'weights': 'distance'},\n",
       " mean: 0.48948, std: 0.04006, params: {'n_neighbors': 3, 'weights': 'uniform'},\n",
       " mean: 0.47862, std: 0.04060, params: {'n_neighbors': 3, 'weights': 'distance'},\n",
       " mean: 0.48744, std: 0.03560, params: {'n_neighbors': 4, 'weights': 'uniform'},\n",
       " mean: 0.48744, std: 0.03232, params: {'n_neighbors': 4, 'weights': 'distance'},\n",
       " mean: 0.49423, std: 0.03212, params: {'n_neighbors': 5, 'weights': 'uniform'},\n",
       " mean: 0.49084, std: 0.03718, params: {'n_neighbors': 5, 'weights': 'distance'},\n",
       " mean: 0.50305, std: 0.03591, params: {'n_neighbors': 6, 'weights': 'uniform'},\n",
       " mean: 0.49151, std: 0.02737, params: {'n_neighbors': 6, 'weights': 'distance'},\n",
       " mean: 0.52071, std: 0.02972, params: {'n_neighbors': 7, 'weights': 'uniform'},\n",
       " mean: 0.49355, std: 0.03040, params: {'n_neighbors': 7, 'weights': 'distance'},\n",
       " mean: 0.51392, std: 0.03088, params: {'n_neighbors': 8, 'weights': 'uniform'},\n",
       " mean: 0.49355, std: 0.02369, params: {'n_neighbors': 8, 'weights': 'distance'},\n",
       " mean: 0.52342, std: 0.01753, params: {'n_neighbors': 9, 'weights': 'uniform'},\n",
       " mean: 0.50238, std: 0.01278, params: {'n_neighbors': 9, 'weights': 'distance'},\n",
       " mean: 0.51188, std: 0.02791, params: {'n_neighbors': 10, 'weights': 'uniform'},\n",
       " mean: 0.49898, std: 0.02134, params: {'n_neighbors': 10, 'weights': 'distance'},\n",
       " mean: 0.53293, std: 0.02846, params: {'n_neighbors': 11, 'weights': 'uniform'},\n",
       " mean: 0.51595, std: 0.02136, params: {'n_neighbors': 11, 'weights': 'distance'},\n",
       " mean: 0.53089, std: 0.03200, params: {'n_neighbors': 12, 'weights': 'uniform'},\n",
       " mean: 0.50984, std: 0.02329, params: {'n_neighbors': 12, 'weights': 'distance'},\n",
       " mean: 0.53564, std: 0.02973, params: {'n_neighbors': 13, 'weights': 'uniform'},\n",
       " mean: 0.50849, std: 0.02014, params: {'n_neighbors': 13, 'weights': 'distance'},\n",
       " mean: 0.52953, std: 0.02698, params: {'n_neighbors': 14, 'weights': 'uniform'},\n",
       " mean: 0.51663, std: 0.01647, params: {'n_neighbors': 14, 'weights': 'distance'},\n",
       " mean: 0.54311, std: 0.02761, params: {'n_neighbors': 15, 'weights': 'uniform'},\n",
       " mean: 0.52749, std: 0.02357, params: {'n_neighbors': 15, 'weights': 'distance'},\n",
       " mean: 0.53360, std: 0.01464, params: {'n_neighbors': 16, 'weights': 'uniform'},\n",
       " mean: 0.52478, std: 0.01958, params: {'n_neighbors': 16, 'weights': 'distance'},\n",
       " mean: 0.53632, std: 0.02034, params: {'n_neighbors': 17, 'weights': 'uniform'},\n",
       " mean: 0.52410, std: 0.01730, params: {'n_neighbors': 17, 'weights': 'distance'},\n",
       " mean: 0.53496, std: 0.02652, params: {'n_neighbors': 18, 'weights': 'uniform'},\n",
       " mean: 0.52410, std: 0.02125, params: {'n_neighbors': 18, 'weights': 'distance'},\n",
       " mean: 0.54039, std: 0.02770, params: {'n_neighbors': 19, 'weights': 'uniform'},\n",
       " mean: 0.52682, std: 0.02154, params: {'n_neighbors': 19, 'weights': 'distance'},\n",
       " mean: 0.54718, std: 0.02819, params: {'n_neighbors': 20, 'weights': 'uniform'},\n",
       " mean: 0.52138, std: 0.01921, params: {'n_neighbors': 20, 'weights': 'distance'},\n",
       " mean: 0.54379, std: 0.03398, params: {'n_neighbors': 21, 'weights': 'uniform'},\n",
       " mean: 0.53564, std: 0.02474, params: {'n_neighbors': 21, 'weights': 'distance'},\n",
       " mean: 0.54650, std: 0.03033, params: {'n_neighbors': 22, 'weights': 'uniform'},\n",
       " mean: 0.52546, std: 0.02174, params: {'n_neighbors': 22, 'weights': 'distance'},\n",
       " mean: 0.54854, std: 0.03534, params: {'n_neighbors': 23, 'weights': 'uniform'},\n",
       " mean: 0.53293, std: 0.02569, params: {'n_neighbors': 23, 'weights': 'distance'},\n",
       " mean: 0.54650, std: 0.02869, params: {'n_neighbors': 24, 'weights': 'uniform'},\n",
       " mean: 0.53360, std: 0.02426, params: {'n_neighbors': 24, 'weights': 'distance'},\n",
       " mean: 0.54854, std: 0.03600, params: {'n_neighbors': 25, 'weights': 'uniform'},\n",
       " mean: 0.53157, std: 0.03159, params: {'n_neighbors': 25, 'weights': 'distance'},\n",
       " mean: 0.54650, std: 0.04367, params: {'n_neighbors': 26, 'weights': 'uniform'},\n",
       " mean: 0.52614, std: 0.03553, params: {'n_neighbors': 26, 'weights': 'distance'},\n",
       " mean: 0.54311, std: 0.03433, params: {'n_neighbors': 27, 'weights': 'uniform'},\n",
       " mean: 0.53293, std: 0.02742, params: {'n_neighbors': 27, 'weights': 'distance'},\n",
       " mean: 0.54175, std: 0.03080, params: {'n_neighbors': 28, 'weights': 'uniform'},\n",
       " mean: 0.52749, std: 0.02586, params: {'n_neighbors': 28, 'weights': 'distance'},\n",
       " mean: 0.54311, std: 0.03240, params: {'n_neighbors': 29, 'weights': 'uniform'},\n",
       " mean: 0.52953, std: 0.02620, params: {'n_neighbors': 29, 'weights': 'distance'},\n",
       " mean: 0.54039, std: 0.02696, params: {'n_neighbors': 30, 'weights': 'uniform'},\n",
       " mean: 0.52885, std: 0.02127, params: {'n_neighbors': 30, 'weights': 'distance'},\n",
       " mean: 0.54582, std: 0.02665, params: {'n_neighbors': 31, 'weights': 'uniform'},\n",
       " mean: 0.53021, std: 0.02368, params: {'n_neighbors': 31, 'weights': 'distance'},\n",
       " mean: 0.54990, std: 0.03158, params: {'n_neighbors': 32, 'weights': 'uniform'},\n",
       " mean: 0.53632, std: 0.02414, params: {'n_neighbors': 32, 'weights': 'distance'},\n",
       " mean: 0.54718, std: 0.02982, params: {'n_neighbors': 33, 'weights': 'uniform'},\n",
       " mean: 0.53768, std: 0.02742, params: {'n_neighbors': 33, 'weights': 'distance'},\n",
       " mean: 0.54379, std: 0.03479, params: {'n_neighbors': 34, 'weights': 'uniform'},\n",
       " mean: 0.53428, std: 0.03126, params: {'n_neighbors': 34, 'weights': 'distance'},\n",
       " mean: 0.54786, std: 0.04463, params: {'n_neighbors': 35, 'weights': 'uniform'},\n",
       " mean: 0.53632, std: 0.03239, params: {'n_neighbors': 35, 'weights': 'distance'},\n",
       " mean: 0.54107, std: 0.03426, params: {'n_neighbors': 36, 'weights': 'uniform'},\n",
       " mean: 0.53496, std: 0.02757, params: {'n_neighbors': 36, 'weights': 'distance'},\n",
       " mean: 0.54379, std: 0.03284, params: {'n_neighbors': 37, 'weights': 'uniform'},\n",
       " mean: 0.52885, std: 0.02648, params: {'n_neighbors': 37, 'weights': 'distance'},\n",
       " mean: 0.53632, std: 0.03657, params: {'n_neighbors': 38, 'weights': 'uniform'},\n",
       " mean: 0.52682, std: 0.03527, params: {'n_neighbors': 38, 'weights': 'distance'},\n",
       " mean: 0.53293, std: 0.03611, params: {'n_neighbors': 39, 'weights': 'uniform'},\n",
       " mean: 0.52274, std: 0.02681, params: {'n_neighbors': 39, 'weights': 'distance'},\n",
       " mean: 0.53632, std: 0.03871, params: {'n_neighbors': 40, 'weights': 'uniform'},\n",
       " mean: 0.52274, std: 0.02566, params: {'n_neighbors': 40, 'weights': 'distance'},\n",
       " mean: 0.53564, std: 0.03031, params: {'n_neighbors': 41, 'weights': 'uniform'},\n",
       " mean: 0.52817, std: 0.02754, params: {'n_neighbors': 41, 'weights': 'distance'},\n",
       " mean: 0.54107, std: 0.03748, params: {'n_neighbors': 42, 'weights': 'uniform'},\n",
       " mean: 0.52478, std: 0.02959, params: {'n_neighbors': 42, 'weights': 'distance'},\n",
       " mean: 0.53293, std: 0.03263, params: {'n_neighbors': 43, 'weights': 'uniform'},\n",
       " mean: 0.53021, std: 0.03038, params: {'n_neighbors': 43, 'weights': 'distance'},\n",
       " mean: 0.53768, std: 0.03069, params: {'n_neighbors': 44, 'weights': 'uniform'},\n",
       " mean: 0.52749, std: 0.02991, params: {'n_neighbors': 44, 'weights': 'distance'},\n",
       " mean: 0.53293, std: 0.02737, params: {'n_neighbors': 45, 'weights': 'uniform'},\n",
       " mean: 0.52953, std: 0.02538, params: {'n_neighbors': 45, 'weights': 'distance'},\n",
       " mean: 0.53564, std: 0.03074, params: {'n_neighbors': 46, 'weights': 'uniform'},\n",
       " mean: 0.52274, std: 0.03015, params: {'n_neighbors': 46, 'weights': 'distance'},\n",
       " mean: 0.52817, std: 0.03106, params: {'n_neighbors': 47, 'weights': 'uniform'},\n",
       " mean: 0.52546, std: 0.02878, params: {'n_neighbors': 47, 'weights': 'distance'},\n",
       " mean: 0.53564, std: 0.02727, params: {'n_neighbors': 48, 'weights': 'uniform'},\n",
       " mean: 0.52682, std: 0.02795, params: {'n_neighbors': 48, 'weights': 'distance'},\n",
       " mean: 0.52749, std: 0.03349, params: {'n_neighbors': 49, 'weights': 'uniform'},\n",
       " mean: 0.53021, std: 0.03450, params: {'n_neighbors': 49, 'weights': 'distance'},\n",
       " mean: 0.53089, std: 0.02985, params: {'n_neighbors': 50, 'weights': 'uniform'},\n",
       " mean: 0.52817, std: 0.03409, params: {'n_neighbors': 50, 'weights': 'distance'},\n",
       " mean: 0.52953, std: 0.03560, params: {'n_neighbors': 51, 'weights': 'uniform'},\n",
       " mean: 0.52478, std: 0.03634, params: {'n_neighbors': 51, 'weights': 'distance'},\n",
       " mean: 0.53157, std: 0.02826, params: {'n_neighbors': 52, 'weights': 'uniform'},\n",
       " mean: 0.52749, std: 0.03250, params: {'n_neighbors': 52, 'weights': 'distance'},\n",
       " mean: 0.52953, std: 0.03399, params: {'n_neighbors': 53, 'weights': 'uniform'},\n",
       " mean: 0.52953, std: 0.03053, params: {'n_neighbors': 53, 'weights': 'distance'},\n",
       " mean: 0.53428, std: 0.03059, params: {'n_neighbors': 54, 'weights': 'uniform'},\n",
       " mean: 0.52410, std: 0.02720, params: {'n_neighbors': 54, 'weights': 'distance'},\n",
       " mean: 0.53428, std: 0.03190, params: {'n_neighbors': 55, 'weights': 'uniform'},\n",
       " mean: 0.52749, std: 0.03626, params: {'n_neighbors': 55, 'weights': 'distance'},\n",
       " mean: 0.54107, std: 0.03232, params: {'n_neighbors': 56, 'weights': 'uniform'},\n",
       " mean: 0.52817, std: 0.02862, params: {'n_neighbors': 56, 'weights': 'distance'},\n",
       " mean: 0.53904, std: 0.03308, params: {'n_neighbors': 57, 'weights': 'uniform'},\n",
       " mean: 0.53157, std: 0.03533, params: {'n_neighbors': 57, 'weights': 'distance'},\n",
       " mean: 0.53157, std: 0.03288, params: {'n_neighbors': 58, 'weights': 'uniform'},\n",
       " mean: 0.52342, std: 0.03395, params: {'n_neighbors': 58, 'weights': 'distance'},\n",
       " mean: 0.53428, std: 0.03818, params: {'n_neighbors': 59, 'weights': 'uniform'},\n",
       " mean: 0.52614, std: 0.04026, params: {'n_neighbors': 59, 'weights': 'distance'},\n",
       " mean: 0.52614, std: 0.03239, params: {'n_neighbors': 60, 'weights': 'uniform'},\n",
       " mean: 0.52274, std: 0.03260, params: {'n_neighbors': 60, 'weights': 'distance'},\n",
       " mean: 0.53564, std: 0.03125, params: {'n_neighbors': 61, 'weights': 'uniform'},\n",
       " mean: 0.52546, std: 0.03461, params: {'n_neighbors': 61, 'weights': 'distance'},\n",
       " mean: 0.52817, std: 0.03006, params: {'n_neighbors': 62, 'weights': 'uniform'},\n",
       " mean: 0.52410, std: 0.03451, params: {'n_neighbors': 62, 'weights': 'distance'},\n",
       " mean: 0.52342, std: 0.03438, params: {'n_neighbors': 63, 'weights': 'uniform'},\n",
       " mean: 0.52206, std: 0.03676, params: {'n_neighbors': 63, 'weights': 'distance'},\n",
       " mean: 0.52410, std: 0.03364, params: {'n_neighbors': 64, 'weights': 'uniform'},\n",
       " mean: 0.52342, std: 0.03660, params: {'n_neighbors': 64, 'weights': 'distance'},\n",
       " mean: 0.52546, std: 0.03490, params: {'n_neighbors': 65, 'weights': 'uniform'},\n",
       " mean: 0.52342, std: 0.03722, params: {'n_neighbors': 65, 'weights': 'distance'},\n",
       " mean: 0.52138, std: 0.03293, params: {'n_neighbors': 66, 'weights': 'uniform'},\n",
       " mean: 0.52138, std: 0.03853, params: {'n_neighbors': 66, 'weights': 'distance'},\n",
       " mean: 0.52885, std: 0.03450, params: {'n_neighbors': 67, 'weights': 'uniform'},\n",
       " mean: 0.52749, std: 0.03714, params: {'n_neighbors': 67, 'weights': 'distance'},\n",
       " mean: 0.53089, std: 0.03385, params: {'n_neighbors': 68, 'weights': 'uniform'},\n",
       " mean: 0.52749, std: 0.03886, params: {'n_neighbors': 68, 'weights': 'distance'},\n",
       " mean: 0.52749, std: 0.02822, params: {'n_neighbors': 69, 'weights': 'uniform'},\n",
       " mean: 0.52410, std: 0.03877, params: {'n_neighbors': 69, 'weights': 'distance'},\n",
       " mean: 0.52682, std: 0.02809, params: {'n_neighbors': 70, 'weights': 'uniform'},\n",
       " mean: 0.52546, std: 0.03597, params: {'n_neighbors': 70, 'weights': 'distance'},\n",
       " mean: 0.52546, std: 0.03044, params: {'n_neighbors': 71, 'weights': 'uniform'},\n",
       " mean: 0.52478, std: 0.03580, params: {'n_neighbors': 71, 'weights': 'distance'},\n",
       " mean: 0.52546, std: 0.03132, params: {'n_neighbors': 72, 'weights': 'uniform'},\n",
       " mean: 0.52342, std: 0.03683, params: {'n_neighbors': 72, 'weights': 'distance'},\n",
       " mean: 0.52817, std: 0.03447, params: {'n_neighbors': 73, 'weights': 'uniform'},\n",
       " mean: 0.52817, std: 0.03460, params: {'n_neighbors': 73, 'weights': 'distance'},\n",
       " mean: 0.53428, std: 0.03138, params: {'n_neighbors': 74, 'weights': 'uniform'},\n",
       " mean: 0.52953, std: 0.03408, params: {'n_neighbors': 74, 'weights': 'distance'},\n",
       " mean: 0.53089, std: 0.03108, params: {'n_neighbors': 75, 'weights': 'uniform'},\n",
       " mean: 0.52817, std: 0.03292, params: {'n_neighbors': 75, 'weights': 'distance'},\n",
       " mean: 0.52817, std: 0.03070, params: {'n_neighbors': 76, 'weights': 'uniform'},\n",
       " mean: 0.52682, std: 0.03609, params: {'n_neighbors': 76, 'weights': 'distance'},\n",
       " mean: 0.53021, std: 0.02941, params: {'n_neighbors': 77, 'weights': 'uniform'},\n",
       " mean: 0.52410, std: 0.03171, params: {'n_neighbors': 77, 'weights': 'distance'},\n",
       " mean: 0.53293, std: 0.02802, params: {'n_neighbors': 78, 'weights': 'uniform'},\n",
       " mean: 0.52953, std: 0.03393, params: {'n_neighbors': 78, 'weights': 'distance'},\n",
       " mean: 0.53021, std: 0.02394, params: {'n_neighbors': 79, 'weights': 'uniform'},\n",
       " mean: 0.52682, std: 0.03242, params: {'n_neighbors': 79, 'weights': 'distance'},\n",
       " mean: 0.53632, std: 0.02719, params: {'n_neighbors': 80, 'weights': 'uniform'},\n",
       " mean: 0.53021, std: 0.03236, params: {'n_neighbors': 80, 'weights': 'distance'},\n",
       " mean: 0.52885, std: 0.02427, params: {'n_neighbors': 81, 'weights': 'uniform'},\n",
       " mean: 0.52749, std: 0.02891, params: {'n_neighbors': 81, 'weights': 'distance'},\n",
       " mean: 0.53496, std: 0.02562, params: {'n_neighbors': 82, 'weights': 'uniform'},\n",
       " mean: 0.53293, std: 0.03214, params: {'n_neighbors': 82, 'weights': 'distance'},\n",
       " mean: 0.53089, std: 0.02986, params: {'n_neighbors': 83, 'weights': 'uniform'},\n",
       " mean: 0.52614, std: 0.03140, params: {'n_neighbors': 83, 'weights': 'distance'},\n",
       " mean: 0.53157, std: 0.03025, params: {'n_neighbors': 84, 'weights': 'uniform'},\n",
       " mean: 0.52546, std: 0.02972, params: {'n_neighbors': 84, 'weights': 'distance'},\n",
       " mean: 0.53632, std: 0.02324, params: {'n_neighbors': 85, 'weights': 'uniform'},\n",
       " mean: 0.52817, std: 0.02619, params: {'n_neighbors': 85, 'weights': 'distance'},\n",
       " mean: 0.53496, std: 0.03000, params: {'n_neighbors': 86, 'weights': 'uniform'},\n",
       " mean: 0.52817, std: 0.03037, params: {'n_neighbors': 86, 'weights': 'distance'},\n",
       " mean: 0.53971, std: 0.02375, params: {'n_neighbors': 87, 'weights': 'uniform'},\n",
       " mean: 0.53157, std: 0.03013, params: {'n_neighbors': 87, 'weights': 'distance'},\n",
       " mean: 0.53428, std: 0.02720, params: {'n_neighbors': 88, 'weights': 'uniform'},\n",
       " mean: 0.52478, std: 0.03277, params: {'n_neighbors': 88, 'weights': 'distance'},\n",
       " mean: 0.53157, std: 0.03186, params: {'n_neighbors': 89, 'weights': 'uniform'},\n",
       " mean: 0.52682, std: 0.03301, params: {'n_neighbors': 89, 'weights': 'distance'},\n",
       " mean: 0.52749, std: 0.02570, params: {'n_neighbors': 90, 'weights': 'uniform'},\n",
       " mean: 0.52342, std: 0.03172, params: {'n_neighbors': 90, 'weights': 'distance'},\n",
       " mean: 0.53360, std: 0.03359, params: {'n_neighbors': 91, 'weights': 'uniform'},\n",
       " mean: 0.52546, std: 0.03345, params: {'n_neighbors': 91, 'weights': 'distance'},\n",
       " mean: 0.52953, std: 0.02818, params: {'n_neighbors': 92, 'weights': 'uniform'},\n",
       " mean: 0.52546, std: 0.03625, params: {'n_neighbors': 92, 'weights': 'distance'},\n",
       " mean: 0.53496, std: 0.02325, params: {'n_neighbors': 93, 'weights': 'uniform'},\n",
       " mean: 0.52885, std: 0.03641, params: {'n_neighbors': 93, 'weights': 'distance'},\n",
       " mean: 0.53564, std: 0.02611, params: {'n_neighbors': 94, 'weights': 'uniform'},\n",
       " mean: 0.52953, std: 0.03205, params: {'n_neighbors': 94, 'weights': 'distance'},\n",
       " mean: 0.53428, std: 0.02838, params: {'n_neighbors': 95, 'weights': 'uniform'},\n",
       " mean: 0.53021, std: 0.03402, params: {'n_neighbors': 95, 'weights': 'distance'},\n",
       " mean: 0.53496, std: 0.02637, params: {'n_neighbors': 96, 'weights': 'uniform'},\n",
       " mean: 0.53360, std: 0.03037, params: {'n_neighbors': 96, 'weights': 'distance'},\n",
       " mean: 0.53021, std: 0.03139, params: {'n_neighbors': 97, 'weights': 'uniform'},\n",
       " mean: 0.53089, std: 0.03321, params: {'n_neighbors': 97, 'weights': 'distance'},\n",
       " mean: 0.53021, std: 0.02404, params: {'n_neighbors': 98, 'weights': 'uniform'},\n",
       " mean: 0.53157, std: 0.02896, params: {'n_neighbors': 98, 'weights': 'distance'},\n",
       " mean: 0.53089, std: 0.02685, params: {'n_neighbors': 99, 'weights': 'uniform'},\n",
       " mean: 0.52817, std: 0.03337, params: {'n_neighbors': 99, 'weights': 'distance'}]"
      ]
     },
     "execution_count": 100,
     "metadata": {},
     "output_type": "execute_result"
    }
   ],
   "source": [
    "grid.grid_scores_\n"
   ]
  },
  {
   "cell_type": "code",
   "execution_count": 101,
   "metadata": {},
   "outputs": [
    {
     "name": "stdout",
     "output_type": "stream",
     "text": [
      "0.549898167006\n",
      "{'n_neighbors': 32, 'weights': 'uniform'}\n"
     ]
    }
   ],
   "source": [
    "print(grid.best_score_)\n",
    "print(grid.best_params_)"
   ]
  },
  {
   "cell_type": "code",
   "execution_count": 102,
   "metadata": {},
   "outputs": [],
   "source": [
    "gs_predict_knn = grid.predict(X_test)"
   ]
  },
  {
   "cell_type": "code",
   "execution_count": 103,
   "metadata": {},
   "outputs": [],
   "source": [
    "cm_knn = confusion_matrix(y_test,gs_predict_knn)"
   ]
  },
  {
   "cell_type": "code",
   "execution_count": 104,
   "metadata": {},
   "outputs": [
    {
     "data": {
      "text/plain": [
       "array([[119,  22,  40],\n",
       "       [ 28,  52,  37],\n",
       "       [ 39,  27,  78]])"
      ]
     },
     "execution_count": 104,
     "metadata": {},
     "output_type": "execute_result"
    }
   ],
   "source": [
    "cm_knn"
   ]
  },
  {
   "cell_type": "code",
   "execution_count": 109,
   "metadata": {},
   "outputs": [
    {
     "name": "stdout",
     "output_type": "stream",
     "text": [
      "             precision    recall  f1-score   support\n",
      "\n",
      "          1       0.64      0.66      0.65       181\n",
      "          2       0.51      0.44      0.48       117\n",
      "          3       0.50      0.54      0.52       144\n",
      "\n",
      "avg / total       0.56      0.56      0.56       442\n",
      "\n"
     ]
    }
   ],
   "source": [
    "print(classification_report(y_test, gs_predict_knn))"
   ]
  },
  {
   "cell_type": "code",
   "execution_count": 57,
   "metadata": {},
   "outputs": [
    {
     "data": {
      "text/html": [
       "<div>\n",
       "<style scoped>\n",
       "    .dataframe tbody tr th:only-of-type {\n",
       "        vertical-align: middle;\n",
       "    }\n",
       "\n",
       "    .dataframe tbody tr th {\n",
       "        vertical-align: top;\n",
       "    }\n",
       "\n",
       "    .dataframe thead th {\n",
       "        text-align: right;\n",
       "    }\n",
       "</style>\n",
       "<table border=\"1\" class=\"dataframe\">\n",
       "  <thead>\n",
       "    <tr style=\"text-align: right;\">\n",
       "      <th>Predicted Contraceptive Choice</th>\n",
       "      <th>1</th>\n",
       "      <th>2</th>\n",
       "      <th>3</th>\n",
       "    </tr>\n",
       "    <tr>\n",
       "      <th>Actual Contraceptive Choice</th>\n",
       "      <th></th>\n",
       "      <th></th>\n",
       "      <th></th>\n",
       "    </tr>\n",
       "  </thead>\n",
       "  <tbody>\n",
       "    <tr>\n",
       "      <th>1</th>\n",
       "      <td>119</td>\n",
       "      <td>22</td>\n",
       "      <td>40</td>\n",
       "    </tr>\n",
       "    <tr>\n",
       "      <th>2</th>\n",
       "      <td>28</td>\n",
       "      <td>52</td>\n",
       "      <td>37</td>\n",
       "    </tr>\n",
       "    <tr>\n",
       "      <th>3</th>\n",
       "      <td>39</td>\n",
       "      <td>27</td>\n",
       "      <td>78</td>\n",
       "    </tr>\n",
       "  </tbody>\n",
       "</table>\n",
       "</div>"
      ],
      "text/plain": [
       "Predicted Contraceptive Choice    1   2   3\n",
       "Actual Contraceptive Choice                \n",
       "1                               119  22  40\n",
       "2                                28  52  37\n",
       "3                                39  27  78"
      ]
     },
     "execution_count": 57,
     "metadata": {},
     "output_type": "execute_result"
    }
   ],
   "source": [
    "pd.crosstab(y_test, gs_predict_knn, rownames=['Actual Contraceptive Choice'], colnames=['Predicted Contraceptive Choice'])"
   ]
  },
  {
   "cell_type": "code",
   "execution_count": 58,
   "metadata": {},
   "outputs": [],
   "source": [
    "error_rate_knn = (gs_predict_knn != y_test).mean()\n"
   ]
  },
  {
   "cell_type": "code",
   "execution_count": 61,
   "metadata": {},
   "outputs": [
    {
     "name": "stdout",
     "output_type": "stream",
     "text": [
      "0.43665158371040724\n"
     ]
    }
   ],
   "source": [
    "print(error_rate_knn)"
   ]
  },
  {
   "cell_type": "code",
   "execution_count": 62,
   "metadata": {},
   "outputs": [],
   "source": [
    "from sklearn.metrics import accuracy_score\n"
   ]
  },
  {
   "cell_type": "code",
   "execution_count": 74,
   "metadata": {},
   "outputs": [
    {
     "name": "stdout",
     "output_type": "stream",
     "text": [
      "('Accuracy is ', 56.334841628959275)\n"
     ]
    }
   ],
   "source": [
    "print (\"Accuracy is \", accuracy_score(y_test,gs_predict_knn)*100)"
   ]
  },
  {
   "cell_type": "code",
   "execution_count": null,
   "metadata": {},
   "outputs": [],
   "source": []
  },
  {
   "cell_type": "markdown",
   "metadata": {},
   "source": [
    "#### Test"
   ]
  },
  {
   "cell_type": "code",
   "execution_count": 65,
   "metadata": {},
   "outputs": [
    {
     "name": "stdout",
     "output_type": "stream",
     "text": [
      "0.46153846153846156\n"
     ]
    }
   ],
   "source": [
    "knn = KNeighborsClassifier(n_neighbors=3)\n",
    "\n",
    "# fitting the model\n",
    "knn.fit(X_train, y_train)\n",
    "\n",
    "# predict the response\n",
    "pred = knn.predict(X_test)\n",
    "\n",
    "# evaluate accuracy\n",
    "print accuracy_score(y_test, pred)"
   ]
  },
  {
   "cell_type": "code",
   "execution_count": 66,
   "metadata": {},
   "outputs": [],
   "source": [
    "myList = list(range(1,50))\n",
    "\n",
    "# subsetting just the odd ones\n",
    "neighbors = filter(lambda x: x % 2 != 0, myList)\n",
    "\n",
    "# empty list that will hold cv scores\n",
    "cv_scores = []\n",
    "\n",
    "# perform 10-fold cross validation\n",
    "for k in neighbors:\n",
    "    knn = KNeighborsClassifier(n_neighbors=k)\n",
    "    scores = cross_val_score(knn, X_train, y_train, cv=10, scoring='accuracy')\n",
    "    cv_scores.append(scores.mean())"
   ]
  },
  {
   "cell_type": "code",
   "execution_count": 67,
   "metadata": {},
   "outputs": [
    {
     "name": "stdout",
     "output_type": "stream",
     "text": [
      "The optimal number of neighbors is 17\n"
     ]
    },
    {
     "data": {
      "image/png": "[encoded data removed]",
      "text/plain": [
       "<matplotlib.figure.Figure at 0x1a148e8ad0>"
      ]
     },
     "metadata": {},
     "output_type": "display_data"
    }
   ],
   "source": [
    "# changing to misclassification error\n",
    "MSE = [1 - x for x in cv_scores]\n",
    "\n",
    "# determining best k\n",
    "optimal_k = neighbors[MSE.index(min(MSE))]\n",
    "print \"The optimal number of neighbors is %d\" % optimal_k\n",
    "\n",
    "# plot misclassification error vs k\n",
    "plt.plot(neighbors, MSE)\n",
    "plt.xlabel('Number of Neighbors K')\n",
    "plt.ylabel('Misclassification Error')\n",
    "plt.show()"
   ]
  },
  {
   "cell_type": "code",
   "execution_count": 73,
   "metadata": {},
   "outputs": [
    {
     "name": "stdout",
     "output_type": "stream",
     "text": [
      "0.5113122171945701\n"
     ]
    }
   ],
   "source": [
    "knn = KNeighborsClassifier(n_neighbors=17)\n",
    "\n",
    "# fitting the model\n",
    "knn.fit(X_train, y_train)\n",
    "\n",
    "# predict the response\n",
    "pred = knn.predict(X_test)\n",
    "\n",
    "# evaluate accuracy\n",
    "print accuracy_score(y_test, pred)"
   ]
  },
  {
   "cell_type": "code",
   "execution_count": null,
   "metadata": {},
   "outputs": [],
   "source": []
  },
  {
   "cell_type": "code",
   "execution_count": null,
   "metadata": {},
   "outputs": [],
   "source": []
  },
  {
   "cell_type": "code",
   "execution_count": null,
   "metadata": {},
   "outputs": [],
   "source": []
  },
  {
   "cell_type": "code",
   "execution_count": null,
   "metadata": {},
   "outputs": [],
   "source": []
  },
  {
   "cell_type": "code",
   "execution_count": null,
   "metadata": {},
   "outputs": [],
   "source": []
  },
  {
   "cell_type": "markdown",
   "metadata": {},
   "source": [
    "### Random Forest"
   ]
  },
  {
   "cell_type": "code",
   "execution_count": 435,
   "metadata": {},
   "outputs": [],
   "source": [
    "from sklearn.ensemble import RandomForestClassifier"
   ]
  },
  {
   "cell_type": "markdown",
   "metadata": {},
   "source": [
    "#### Model with fixed parameters"
   ]
  },
  {
   "cell_type": "code",
   "execution_count": 357,
   "metadata": {},
   "outputs": [],
   "source": [
    "clf_random = RandomForestClassifier(n_jobs = 1, n_estimators=100, max_features = 3, max_depth=5, min_samples_leaf = 2, random_state=0)"
   ]
  },
  {
   "cell_type": "code",
   "execution_count": 358,
   "metadata": {},
   "outputs": [
    {
     "data": {
      "text/plain": [
       "RandomForestClassifier(bootstrap=True, class_weight=None, criterion='gini',\n",
       "            max_depth=5, max_features=3, max_leaf_nodes=None,\n",
       "            min_impurity_decrease=0.0, min_impurity_split=None,\n",
       "            min_samples_leaf=2, min_samples_split=2,\n",
       "            min_weight_fraction_leaf=0.0, n_estimators=100, n_jobs=1,\n",
       "            oob_score=False, random_state=0, verbose=0, warm_start=False)"
      ]
     },
     "execution_count": 358,
     "metadata": {},
     "output_type": "execute_result"
    }
   ],
   "source": [
    "clf_random.fit(X_train, y_train)"
   ]
  },
  {
   "cell_type": "code",
   "execution_count": 359,
   "metadata": {},
   "outputs": [],
   "source": [
    "y_pred_random = clf_random.predict(X_test)\n"
   ]
  },
  {
   "cell_type": "code",
   "execution_count": 360,
   "metadata": {},
   "outputs": [
    {
     "data": {
      "text/plain": [
       "0.5090497737556561"
      ]
     },
     "execution_count": 360,
     "metadata": {},
     "output_type": "execute_result"
    }
   ],
   "source": [
    "from sklearn.metrics import accuracy_score\n",
    "\n",
    "accuracy_score(y_test, y_pred_random)\n"
   ]
  },
  {
   "cell_type": "code",
   "execution_count": 361,
   "metadata": {},
   "outputs": [],
   "source": [
    "error_rate_random = (y_pred_random != y_test).mean()\n"
   ]
  },
  {
   "cell_type": "code",
   "execution_count": 362,
   "metadata": {},
   "outputs": [
    {
     "data": {
      "text/plain": [
       "0.49095022624434387"
      ]
     },
     "execution_count": 362,
     "metadata": {},
     "output_type": "execute_result"
    }
   ],
   "source": [
    "error_rate_random"
   ]
  },
  {
   "cell_type": "code",
   "execution_count": 363,
   "metadata": {},
   "outputs": [],
   "source": [
    "cm_random = confusion_matrix(y_test, y_pred_random)"
   ]
  },
  {
   "cell_type": "code",
   "execution_count": 364,
   "metadata": {},
   "outputs": [
    {
     "data": {
      "text/plain": [
       "array([[124,   4,  53],\n",
       "       [ 35,  21,  61],\n",
       "       [ 59,   5,  80]])"
      ]
     },
     "execution_count": 364,
     "metadata": {},
     "output_type": "execute_result"
    }
   ],
   "source": [
    "cm_random"
   ]
  },
  {
   "cell_type": "code",
   "execution_count": 365,
   "metadata": {},
   "outputs": [
    {
     "data": {
      "text/html": [
       "<div>\n",
       "<style scoped>\n",
       "    .dataframe tbody tr th:only-of-type {\n",
       "        vertical-align: middle;\n",
       "    }\n",
       "\n",
       "    .dataframe tbody tr th {\n",
       "        vertical-align: top;\n",
       "    }\n",
       "\n",
       "    .dataframe thead th {\n",
       "        text-align: right;\n",
       "    }\n",
       "</style>\n",
       "<table border=\"1\" class=\"dataframe\">\n",
       "  <thead>\n",
       "    <tr style=\"text-align: right;\">\n",
       "      <th>Predicted Contraceptive Choice</th>\n",
       "      <th>1</th>\n",
       "      <th>2</th>\n",
       "      <th>3</th>\n",
       "    </tr>\n",
       "    <tr>\n",
       "      <th>Actual Contraceptive Choice</th>\n",
       "      <th></th>\n",
       "      <th></th>\n",
       "      <th></th>\n",
       "    </tr>\n",
       "  </thead>\n",
       "  <tbody>\n",
       "    <tr>\n",
       "      <th>1</th>\n",
       "      <td>124</td>\n",
       "      <td>4</td>\n",
       "      <td>53</td>\n",
       "    </tr>\n",
       "    <tr>\n",
       "      <th>2</th>\n",
       "      <td>35</td>\n",
       "      <td>21</td>\n",
       "      <td>61</td>\n",
       "    </tr>\n",
       "    <tr>\n",
       "      <th>3</th>\n",
       "      <td>59</td>\n",
       "      <td>5</td>\n",
       "      <td>80</td>\n",
       "    </tr>\n",
       "  </tbody>\n",
       "</table>\n",
       "</div>"
      ],
      "text/plain": [
       "Predicted Contraceptive Choice    1   2   3\n",
       "Actual Contraceptive Choice                \n",
       "1                               124   4  53\n",
       "2                                35  21  61\n",
       "3                                59   5  80"
      ]
     },
     "execution_count": 365,
     "metadata": {},
     "output_type": "execute_result"
    }
   ],
   "source": [
    "pd.crosstab(y_test, y_pred_random, rownames=['Actual Contraceptive Choice'], colnames=['Predicted Contraceptive Choice'])"
   ]
  },
  {
   "cell_type": "code",
   "execution_count": 366,
   "metadata": {},
   "outputs": [
    {
     "name": "stdout",
     "output_type": "stream",
     "text": [
      "             precision    recall  f1-score   support\n",
      "\n",
      "          1       0.57      0.69      0.62       181\n",
      "          2       0.70      0.18      0.29       117\n",
      "          3       0.41      0.56      0.47       144\n",
      "\n",
      "avg / total       0.55      0.51      0.48       442\n",
      "\n"
     ]
    }
   ],
   "source": [
    "print(classification_report(y_test, y_pred_random))"
   ]
  },
  {
   "cell_type": "markdown",
   "metadata": {},
   "source": [
    "#### Grid Search for tuning parameters"
   ]
  },
  {
   "cell_type": "code",
   "execution_count": 410,
   "metadata": {},
   "outputs": [],
   "source": [
    "clf_random = RandomForestClassifier()"
   ]
  },
  {
   "cell_type": "code",
   "execution_count": 411,
   "metadata": {},
   "outputs": [],
   "source": [
    "max_depth = list(range(1,20))\n",
    "\n",
    "min_samples_leaf = list(range(1,20))\n",
    "\n",
    "param_grid = dict( \n",
    "                    max_depth = max_depth, \n",
    "                    min_samples_leaf = min_samples_leaf\n",
    "                )"
   ]
  },
  {
   "cell_type": "code",
   "execution_count": 422,
   "metadata": {},
   "outputs": [],
   "source": [
    "grid_search = GridSearchCV(estimator = clf_random, param_grid = param_grid, \n",
    "                          cv=10, scoring='accuracy')"
   ]
  },
  {
   "cell_type": "code",
   "execution_count": 423,
   "metadata": {},
   "outputs": [
    {
     "data": {
      "text/plain": [
       "GridSearchCV(cv=10, error_score='raise',\n",
       "       estimator=RandomForestClassifier(bootstrap=True, class_weight=None, criterion='gini',\n",
       "            max_depth=None, max_features='auto', max_leaf_nodes=None,\n",
       "            min_impurity_decrease=0.0, min_impurity_split=None,\n",
       "            min_samples_leaf=1, min_samples_split=2,\n",
       "            min_weight_fraction_leaf=0.0, n_estimators=10, n_jobs=1,\n",
       "            oob_score=False, random_state=None, verbose=0,\n",
       "            warm_start=False),\n",
       "       fit_params={}, iid=True, n_jobs=1,\n",
       "       param_grid={'max_depth': [1, 2, 3, 4, 5, 6, 7, 8, 9, 10, 11, 12, 13, 14, 15, 16, 17, 18, 19], 'min_samples_leaf': [1, 2, 3, 4, 5, 6, 7, 8, 9, 10, 11, 12, 13, 14, 15, 16, 17, 18, 19]},\n",
       "       pre_dispatch='2*n_jobs', refit=True, scoring='accuracy', verbose=0)"
      ]
     },
     "execution_count": 423,
     "metadata": {},
     "output_type": "execute_result"
    }
   ],
   "source": [
    "# Fit the grid search to the data\n",
    "grid_search.fit(X_train, y_train)\n"
   ]
  },
  {
   "cell_type": "code",
   "execution_count": 424,
   "metadata": {},
   "outputs": [
    {
     "data": {
      "text/plain": [
       "{'max_depth': 9, 'min_samples_leaf': 14}"
      ]
     },
     "execution_count": 424,
     "metadata": {},
     "output_type": "execute_result"
    }
   ],
   "source": [
    "grid_search.best_params_"
   ]
  },
  {
   "cell_type": "code",
   "execution_count": 415,
   "metadata": {},
   "outputs": [
    {
     "name": "stdout",
     "output_type": "stream",
     "text": [
      "{'max_depth': 8, 'min_samples_leaf': 16}\n",
      "RandomForestClassifier(bootstrap=True, class_weight=None, criterion='gini',\n",
      "            max_depth=8, max_features='auto', max_leaf_nodes=None,\n",
      "            min_impurity_decrease=0.0, min_impurity_split=None,\n",
      "            min_samples_leaf=16, min_samples_split=2,\n",
      "            min_weight_fraction_leaf=0.0, n_estimators=10, n_jobs=1,\n",
      "            oob_score=False, random_state=None, verbose=0,\n",
      "            warm_start=False)\n"
     ]
    }
   ],
   "source": [
    "print(grid_search.best_params_)\n",
    "\n",
    "print(grid_search.best_estimator_)"
   ]
  },
  {
   "cell_type": "code",
   "execution_count": 428,
   "metadata": {},
   "outputs": [],
   "source": [
    "grid_random_clf = grid_search.best_estimator_\n"
   ]
  },
  {
   "cell_type": "code",
   "execution_count": 429,
   "metadata": {},
   "outputs": [],
   "source": [
    "gridRandom_y_pred = grid_random_clf.predict(X_test)\n"
   ]
  },
  {
   "cell_type": "code",
   "execution_count": 430,
   "metadata": {},
   "outputs": [
    {
     "name": "stdout",
     "output_type": "stream",
     "text": [
      "             precision    recall  f1-score   support\n",
      "\n",
      "          1       0.55      0.71      0.62       181\n",
      "          2       0.61      0.23      0.34       117\n",
      "          3       0.43      0.49      0.46       144\n",
      "\n",
      "avg / total       0.53      0.51      0.49       442\n",
      "\n"
     ]
    }
   ],
   "source": [
    "from sklearn.metrics import classification_report\n",
    "print(classification_report(y_test, gridRandom_y_pred))\n"
   ]
  },
  {
   "cell_type": "code",
   "execution_count": 431,
   "metadata": {},
   "outputs": [],
   "source": [
    "error_rate_gridRandom = (gridRandom_y_pred != y_test).mean()\n"
   ]
  },
  {
   "cell_type": "code",
   "execution_count": 432,
   "metadata": {},
   "outputs": [
    {
     "data": {
      "text/plain": [
       "0.48868778280542985"
      ]
     },
     "execution_count": 432,
     "metadata": {},
     "output_type": "execute_result"
    }
   ],
   "source": [
    "error_rate_gridRandom"
   ]
  },
  {
   "cell_type": "code",
   "execution_count": 433,
   "metadata": {},
   "outputs": [
    {
     "data": {
      "text/html": [
       "<div>\n",
       "<style scoped>\n",
       "    .dataframe tbody tr th:only-of-type {\n",
       "        vertical-align: middle;\n",
       "    }\n",
       "\n",
       "    .dataframe tbody tr th {\n",
       "        vertical-align: top;\n",
       "    }\n",
       "\n",
       "    .dataframe thead th {\n",
       "        text-align: right;\n",
       "    }\n",
       "</style>\n",
       "<table border=\"1\" class=\"dataframe\">\n",
       "  <thead>\n",
       "    <tr style=\"text-align: right;\">\n",
       "      <th>Predicted Contraceptive Choice</th>\n",
       "      <th>1</th>\n",
       "      <th>2</th>\n",
       "      <th>3</th>\n",
       "    </tr>\n",
       "    <tr>\n",
       "      <th>Actual Contraceptive Choice</th>\n",
       "      <th></th>\n",
       "      <th></th>\n",
       "      <th></th>\n",
       "    </tr>\n",
       "  </thead>\n",
       "  <tbody>\n",
       "    <tr>\n",
       "      <th>1</th>\n",
       "      <td>129</td>\n",
       "      <td>5</td>\n",
       "      <td>47</td>\n",
       "    </tr>\n",
       "    <tr>\n",
       "      <th>2</th>\n",
       "      <td>44</td>\n",
       "      <td>27</td>\n",
       "      <td>46</td>\n",
       "    </tr>\n",
       "    <tr>\n",
       "      <th>3</th>\n",
       "      <td>62</td>\n",
       "      <td>12</td>\n",
       "      <td>70</td>\n",
       "    </tr>\n",
       "  </tbody>\n",
       "</table>\n",
       "</div>"
      ],
      "text/plain": [
       "Predicted Contraceptive Choice    1   2   3\n",
       "Actual Contraceptive Choice                \n",
       "1                               129   5  47\n",
       "2                                44  27  46\n",
       "3                                62  12  70"
      ]
     },
     "execution_count": 433,
     "metadata": {},
     "output_type": "execute_result"
    }
   ],
   "source": [
    "pd.crosstab(y_test, gridRandom_y_pred, rownames=['Actual Contraceptive Choice'], colnames=['Predicted Contraceptive Choice'])"
   ]
  }
 ],
 "metadata": {
  "kernelspec": {
   "display_name": "Python 2",
   "language": "python",
   "name": "python2"
  },
  "language_info": {
   "codemirror_mode": {
    "name": "ipython",
    "version": 2
   },
   "file_extension": ".py",
   "mimetype": "text/x-python",
   "name": "python",
   "nbconvert_exporter": "python",
   "pygments_lexer": "ipython2",
   "version": "2.7.14"
  },
  "toc": {
   "nav_menu": {},
   "number_sections": true,
   "sideBar": true,
   "skip_h1_title": false,
   "title_cell": "Table of Contents",
   "title_sidebar": "Contents",
   "toc_cell": false,
   "toc_position": {},
   "toc_section_display": true,
   "toc_window_display": false
  }
 },
 "nbformat": 4,
 "nbformat_minor": 2
}
